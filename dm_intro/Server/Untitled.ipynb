{
 "cells": [
  {
   "cell_type": "code",
   "execution_count": 2,
   "metadata": {},
   "outputs": [],
   "source": [
    "#import CGIHTTPServer\n",
    "#import SimpleHTTPServer\n",
    "from BaseHTTPServer import BaseHTTPRequestHandler, HTTPServer\n",
    "#from http.server import BaseHTTPRequestHandler, HTTPServer\n",
    "import sqlite3 as lite\n",
    "import json\n",
    "con = lite.connect('server_fin.db')\n",
    "cursor = con.cursor()\n",
    "\n",
    "PORT = 5000\n",
    "\n",
    "Handler = BaseHTTPRequestHandler\n",
    "\n",
    "class HttpProcessor(BaseHTTPRequestHandler):\n",
    "    \n",
    "\n",
    "    def do_GET(self):\n",
    "        try:\n",
    "            args =  self.path.split('?')\n",
    "            if (args[0] == '/post_top_comments'):\n",
    "                self.post_top_comments(args[1])\n",
    "            if (args[0] == '/post_title'):\n",
    "                self.post_title(args[1])\n",
    "            if (args[0] == '/post_author'):\n",
    "                self.post_author(args[1])\n",
    "            if (args[0] == '/post_date'):\n",
    "                self.post_date(args[1])\n",
    "            if (args[0] == '/date_top_comments'):\n",
    "                self.date_top_comments(args[1])\n",
    "            if (args[0] == '/user_top_comments'):\n",
    "                self.user_top_comments(args[1])\n",
    "        except Exception:\n",
    "            self.send_response(200)\n",
    "            self.send_header('content-type','text/html')\n",
    "            self.end_headers()\n",
    "            self.wfile.write(\"error\")\n",
    "\n",
    "\n",
    "        #self.send_response(200)\n",
    "        #self.send_header('content-type','text/html')\n",
    "        #self.end_headers()\n",
    "        #self.wfile.write(\"hello !\")\n",
    "\n",
    "    def post_title(self, args):\n",
    "        id = int(args.split('=')[1])\n",
    "        cursor.execute(\"SELECT title FROM posts WHERE id=?\", [(id)])\n",
    "        title = (cursor.fetchall()[0])[0]\n",
    "        json_string = json.dumps({'title' : title })\n",
    "        self.send_response(200)\n",
    "        self.send_header('content-type', 'text/html')\n",
    "        self.end_headers()\n",
    "        self.wfile.write(json_string)\n",
    "        print(json_string)\n",
    "\n",
    "\n",
    "    def post_author(self, args):\n",
    "        id = int(args.split('=')[1])\n",
    "        cursor.execute(\"SELECT author FROM posts WHERE id=?\", [(id)])\n",
    "        author = (cursor.fetchall()[0])[0]\n",
    "        json_string = json.dumps({'author': author})\n",
    "        self.send_response(200)\n",
    "        self.send_header('content-type', 'text/html')\n",
    "        self.end_headers()\n",
    "        self.wfile.write(json_string)\n",
    "        print(json_string)\n",
    "\n",
    "    def post_top_comments(self, args):\n",
    "        a = args.split('&')\n",
    "        n = int(a[1].split('=')[1])\n",
    "        p_id = int(a[0].split('=')[1])\n",
    "        cursor.execute(\"SELECT rate, date, post_id, id, time FROM comments WHERE post_id=?\", [(p_id)])\n",
    "        comments = cursor.fetchall()\n",
    "        comments.sort(key=lambda tup: (-tup[0], tup[1], tup[4]), reverse=False)\n",
    "        res = []\n",
    "        for i in comments[:n]:\n",
    "            res.append(str(i[2]) + '/#comment_' + str(i[3]))\n",
    "        json_string = json.dumps({'comments': res})\n",
    "        self.send_response(200)\n",
    "        self.send_header('content-type', 'text/html')\n",
    "        self.end_headers()\n",
    "        self.wfile.write(json_string)\n",
    "        print(json_string)\n",
    "\n",
    "\n",
    "    def post_date(self, args):\n",
    "        id = int(args.split('=')[1])\n",
    "        cursor.execute(\"SELECT date FROM posts WHERE id=?\", [(id)])\n",
    "        date = (cursor.fetchall()[0])[0]\n",
    "        json_string = json.dumps({'date': date})\n",
    "        self.send_response(200)\n",
    "        self.send_header('content-type', 'text/html')\n",
    "        self.end_headers()\n",
    "        self.wfile.write(json_string)\n",
    "        print(json_string)\n",
    "\n",
    "    def date_top_comments(self, args):\n",
    "        a = args.split('&')\n",
    "        n = int(a[1].split('=')[1])\n",
    "        date = a[0].split('=')[1]\n",
    "        cursor.execute(\"SELECT rate, post_id, id, time FROM comments WHERE date=?\", [(date)])\n",
    "        comments = cursor.fetchall()\n",
    "        comments.sort(key=lambda tup: (-tup[0], tup[3]), reverse=False)\n",
    "        res = []\n",
    "        for i in comments[:n]:\n",
    "            res.append(str(i[1]) + '/#comment_' + str(i[2]))\n",
    "        json_string = json.dumps({'comments': res})\n",
    "        self.send_response(200)\n",
    "        self.send_header('content-type', 'text/html')\n",
    "        self.end_headers()\n",
    "        self.wfile.write(json_string)\n",
    "        print(json_string)\n",
    "\n",
    "\n",
    "    def user_top_comments(self, args):\n",
    "        a = args.split('&')\n",
    "        n = int(a[1].split('=')[1])\n",
    "        name = a[0].split('=')[1]\n",
    "        cursor.execute(\"SELECT rate, date, post_id, id, time FROM comments WHERE author=?\", [(name)])\n",
    "        comments = cursor.fetchall()\n",
    "        comments.sort(key = lambda tup : (-tup[0], tup[1], tup[4]), reverse=False)\n",
    "        res = []\n",
    "        for i in comments[:n]:\n",
    "            res.append(str(i[2])+'/#comment_'+str(i[3]))\n",
    "        json_string = json.dumps({'comments': res})\n",
    "        self.send_response(200)\n",
    "        self.send_header('content-type', 'text/html')\n",
    "        self.end_headers()\n",
    "        self.wfile.write(json_string)\n",
    "        print(json_string)\n"
   ]
  },
  {
   "cell_type": "code",
   "execution_count": 3,
   "metadata": {},
   "outputs": [
    {
     "name": "stdout",
     "output_type": "stream",
     "text": [
      "[]\n"
     ]
    },
    {
     "name": "stderr",
     "output_type": "stream",
     "text": [
      "127.0.0.1 - - [20/May/2018 05:11:39] \"GET /post_date?post_id=201576 HTTP/1.1\" 200 -\n"
     ]
    },
    {
     "name": "stdout",
     "output_type": "stream",
     "text": [
      "{\"date\": \"2013-11-10\"}\n"
     ]
    },
    {
     "name": "stderr",
     "output_type": "stream",
     "text": [
      "127.0.0.1 - - [20/May/2018 05:14:40] \"GET /post_top_comments?post_id=247319&n=5 HTTP/1.1\" 200 -\n"
     ]
    },
    {
     "name": "stdout",
     "output_type": "stream",
     "text": [
      "{\"comments\": [\"247319/#comment_9164430\", \"247319/#comment_9164448\", \"247319/#comment_9164442\", \"247319/#comment_9164446\", \"247319/#comment_9164432\"]}\n"
     ]
    },
    {
     "name": "stderr",
     "output_type": "stream",
     "text": [
      "127.0.0.1 - - [20/May/2018 05:16:07] \"GET /post_title?post_id=229393 HTTP/1.1\" 200 -\n"
     ]
    },
    {
     "name": "stdout",
     "output_type": "stream",
     "text": [
      "{\"title\": \"\\u041f\\u0443\\u0442\\u0435\\u0448\\u0435\\u0441\\u0442\\u0432\\u0438\\u044f \\u0431\\u0430\\u043d\\u043a\\u043e\\u0432\\u0441\\u043a\\u043e\\u0439 \\u0442\\u0440\\u0430\\u043d\\u0437\\u0430\\u043a\\u0446\\u0438\\u0438\"}\n"
     ]
    },
    {
     "name": "stderr",
     "output_type": "stream",
     "text": [
      "127.0.0.1 - - [20/May/2018 05:28:12] \"GET /post_date?post_id=201576 HTTP/1.1\" 200 -\n"
     ]
    },
    {
     "name": "stdout",
     "output_type": "stream",
     "text": [
      "{\"date\": \"2013-11-10\"}\n"
     ]
    },
    {
     "name": "stderr",
     "output_type": "stream",
     "text": [
      "127.0.0.1 - - [20/May/2018 05:28:13] \"GET /post_top_comments?post_id=247319&n=5 HTTP/1.1\" 200 -\n"
     ]
    },
    {
     "name": "stdout",
     "output_type": "stream",
     "text": [
      "{\"comments\": [\"247319/#comment_9164430\", \"247319/#comment_9164448\", \"247319/#comment_9164442\", \"247319/#comment_9164446\", \"247319/#comment_9164432\"]}\n"
     ]
    },
    {
     "name": "stderr",
     "output_type": "stream",
     "text": [
      "127.0.0.1 - - [20/May/2018 05:28:14] \"GET /post_title?post_id=229393 HTTP/1.1\" 200 -\n"
     ]
    },
    {
     "name": "stdout",
     "output_type": "stream",
     "text": [
      "{\"title\": \"\\u041f\\u0443\\u0442\\u0435\\u0448\\u0435\\u0441\\u0442\\u0432\\u0438\\u044f \\u0431\\u0430\\u043d\\u043a\\u043e\\u0432\\u0441\\u043a\\u043e\\u0439 \\u0442\\u0440\\u0430\\u043d\\u0437\\u0430\\u043a\\u0446\\u0438\\u0438\"}\n"
     ]
    },
    {
     "name": "stderr",
     "output_type": "stream",
     "text": [
      "127.0.0.1 - - [20/May/2018 05:29:02] \"GET /post_author?post_id=201576 HTTP/1.1\" 200 -\n"
     ]
    },
    {
     "name": "stdout",
     "output_type": "stream",
     "text": [
      "{\"author\": \"Dinisoid\"}\n"
     ]
    },
    {
     "name": "stderr",
     "output_type": "stream",
     "text": [
      "127.0.0.1 - - [20/May/2018 05:30:00] \"GET /user_top_comments?username=zee&n=5 HTTP/1.1\" 200 -\n"
     ]
    },
    {
     "name": "stdout",
     "output_type": "stream",
     "text": [
      "{\"comments\": [\"234663/#comment_7906781\", \"229431/#comment_7766665\", \"222855/#comment_7588523\", \"229981/#comment_7781643\", \"222855/#comment_7589071\"]}\n"
     ]
    },
    {
     "name": "stderr",
     "output_type": "stream",
     "text": [
      "127.0.0.1 - - [20/May/2018 05:30:43] \"GET /date_top_comments?date=2016-04-01&n=5 HTTP/1.1\" 200 -\n"
     ]
    },
    {
     "name": "stdout",
     "output_type": "stream",
     "text": [
      "{\"comments\": [\"280664/#comment_8834074\", \"280682/#comment_8834860\", \"280610/#comment_8835510\", \"280682/#comment_8834796\", \"280660/#comment_9686278\"]}\n"
     ]
    },
    {
     "ename": "KeyboardInterrupt",
     "evalue": "",
     "output_type": "error",
     "traceback": [
      "\u001b[1;31m---------------------------------------------------------------------------\u001b[0m",
      "\u001b[1;31mKeyboardInterrupt\u001b[0m                         Traceback (most recent call last)",
      "\u001b[1;32m<ipython-input-3-d6c7a3786a59>\u001b[0m in \u001b[0;36m<module>\u001b[1;34m()\u001b[0m\n\u001b[0;32m      3\u001b[0m \u001b[1;32mprint\u001b[0m\u001b[1;33m(\u001b[0m\u001b[0mcursor\u001b[0m\u001b[1;33m.\u001b[0m\u001b[0mfetchall\u001b[0m\u001b[1;33m(\u001b[0m\u001b[1;33m)\u001b[0m\u001b[1;33m)\u001b[0m\u001b[1;33m\u001b[0m\u001b[0m\n\u001b[0;32m      4\u001b[0m \u001b[0mserv\u001b[0m \u001b[1;33m=\u001b[0m \u001b[0mHTTPServer\u001b[0m\u001b[1;33m(\u001b[0m\u001b[1;33m(\u001b[0m\u001b[1;34m\"127.0.0.1\"\u001b[0m\u001b[1;33m,\u001b[0m\u001b[0mPORT\u001b[0m\u001b[1;33m)\u001b[0m\u001b[1;33m,\u001b[0m \u001b[0mHttpProcessor\u001b[0m\u001b[1;33m)\u001b[0m\u001b[1;33m\u001b[0m\u001b[0m\n\u001b[1;32m----> 5\u001b[1;33m \u001b[0mserv\u001b[0m\u001b[1;33m.\u001b[0m\u001b[0mserve_forever\u001b[0m\u001b[1;33m(\u001b[0m\u001b[1;33m)\u001b[0m\u001b[1;33m\u001b[0m\u001b[0m\n\u001b[0m",
      "\u001b[1;32mE:\\Anaconda2\\lib\\SocketServer.py\u001b[0m in \u001b[0;36mserve_forever\u001b[1;34m(self, poll_interval)\u001b[0m\n\u001b[0;32m    229\u001b[0m                 \u001b[1;31m# shutdown request and wastes cpu at all other times.\u001b[0m\u001b[1;33m\u001b[0m\u001b[1;33m\u001b[0m\u001b[0m\n\u001b[0;32m    230\u001b[0m                 r, w, e = _eintr_retry(select.select, [self], [], [],\n\u001b[1;32m--> 231\u001b[1;33m                                        poll_interval)\n\u001b[0m\u001b[0;32m    232\u001b[0m                 \u001b[1;32mif\u001b[0m \u001b[0mself\u001b[0m \u001b[1;32min\u001b[0m \u001b[0mr\u001b[0m\u001b[1;33m:\u001b[0m\u001b[1;33m\u001b[0m\u001b[0m\n\u001b[0;32m    233\u001b[0m                     \u001b[0mself\u001b[0m\u001b[1;33m.\u001b[0m\u001b[0m_handle_request_noblock\u001b[0m\u001b[1;33m(\u001b[0m\u001b[1;33m)\u001b[0m\u001b[1;33m\u001b[0m\u001b[0m\n",
      "\u001b[1;32mE:\\Anaconda2\\lib\\SocketServer.py\u001b[0m in \u001b[0;36m_eintr_retry\u001b[1;34m(func, *args)\u001b[0m\n\u001b[0;32m    148\u001b[0m     \u001b[1;32mwhile\u001b[0m \u001b[0mTrue\u001b[0m\u001b[1;33m:\u001b[0m\u001b[1;33m\u001b[0m\u001b[0m\n\u001b[0;32m    149\u001b[0m         \u001b[1;32mtry\u001b[0m\u001b[1;33m:\u001b[0m\u001b[1;33m\u001b[0m\u001b[0m\n\u001b[1;32m--> 150\u001b[1;33m             \u001b[1;32mreturn\u001b[0m \u001b[0mfunc\u001b[0m\u001b[1;33m(\u001b[0m\u001b[1;33m*\u001b[0m\u001b[0margs\u001b[0m\u001b[1;33m)\u001b[0m\u001b[1;33m\u001b[0m\u001b[0m\n\u001b[0m\u001b[0;32m    151\u001b[0m         \u001b[1;32mexcept\u001b[0m \u001b[1;33m(\u001b[0m\u001b[0mOSError\u001b[0m\u001b[1;33m,\u001b[0m \u001b[0mselect\u001b[0m\u001b[1;33m.\u001b[0m\u001b[0merror\u001b[0m\u001b[1;33m)\u001b[0m \u001b[1;32mas\u001b[0m \u001b[0me\u001b[0m\u001b[1;33m:\u001b[0m\u001b[1;33m\u001b[0m\u001b[0m\n\u001b[0;32m    152\u001b[0m             \u001b[1;32mif\u001b[0m \u001b[0me\u001b[0m\u001b[1;33m.\u001b[0m\u001b[0margs\u001b[0m\u001b[1;33m[\u001b[0m\u001b[1;36m0\u001b[0m\u001b[1;33m]\u001b[0m \u001b[1;33m!=\u001b[0m \u001b[0merrno\u001b[0m\u001b[1;33m.\u001b[0m\u001b[0mEINTR\u001b[0m\u001b[1;33m:\u001b[0m\u001b[1;33m\u001b[0m\u001b[0m\n",
      "\u001b[1;31mKeyboardInterrupt\u001b[0m: "
     ]
    }
   ],
   "source": [
    "#proc = HttpProcessor()\n",
    "#proc.connect_db(cursor)\n",
    "print(cursor.fetchall())\n",
    "serv = HTTPServer((\"127.0.0.1\",PORT), HttpProcessor)\n",
    "serv.serve_forever()"
   ]
  },
  {
   "cell_type": "code",
   "execution_count": 3,
   "metadata": {},
   "outputs": [
    {
     "name": "stdout",
     "output_type": "stream",
     "text": [
      "[]\n"
     ]
    },
    {
     "name": "stderr",
     "output_type": "stream",
     "text": [
      "127.0.0.1 - - [20/May/2018 16:27:51] \"GET /post_date?post_id=229391 HTTP/1.1\" 200 -\n"
     ]
    },
    {
     "name": "stdout",
     "output_type": "stream",
     "text": [
      "{\"date\": \"2014-07-10\"}\n"
     ]
    },
    {
     "name": "stderr",
     "output_type": "stream",
     "text": [
      "127.0.0.1 - - [20/May/2018 16:28:07] \"GET /post_author?post_id=280614 HTTP/1.1\" 200 -\n"
     ]
    },
    {
     "name": "stdout",
     "output_type": "stream",
     "text": [
      "{\"author\": \"simonsson\"}\n"
     ]
    },
    {
     "name": "stderr",
     "output_type": "stream",
     "text": [
      "127.0.0.1 - - [20/May/2018 16:28:08] \"GET /post_author?post_id=237543 HTTP/1.1\" 200 -\n"
     ]
    },
    {
     "name": "stdout",
     "output_type": "stream",
     "text": [
      "{\"author\": \"HWman\"}\n"
     ]
    },
    {
     "name": "stderr",
     "output_type": "stream",
     "text": [
      "127.0.0.1 - - [20/May/2018 16:28:09] \"GET /post_author?post_id=250833 HTTP/1.1\" 200 -\n"
     ]
    },
    {
     "name": "stdout",
     "output_type": "stream",
     "text": [
      "{\"author\": \"swelld\"}\n"
     ]
    },
    {
     "name": "stderr",
     "output_type": "stream",
     "text": [
      "127.0.0.1 - - [20/May/2018 16:28:09] \"GET /post_author?post_id=260259 HTTP/1.1\" 200 -\n"
     ]
    },
    {
     "name": "stdout",
     "output_type": "stream",
     "text": [
      "{\"author\": \"varerysan\"}\n"
     ]
    },
    {
     "name": "stderr",
     "output_type": "stream",
     "text": [
      "127.0.0.1 - - [20/May/2018 16:28:10] \"GET /post_author?post_id=220629 HTTP/1.1\" 200 -\n"
     ]
    },
    {
     "name": "stdout",
     "output_type": "stream",
     "text": [
      "{\"author\": \"Andrey2008\"}\n"
     ]
    },
    {
     "name": "stderr",
     "output_type": "stream",
     "text": [
      "127.0.0.1 - - [20/May/2018 16:28:10] \"GET /post_author?post_id=288264 HTTP/1.1\" 200 -\n"
     ]
    },
    {
     "name": "stdout",
     "output_type": "stream",
     "text": [
      "{\"author\": \"msalomatin\"}\n"
     ]
    },
    {
     "name": "stderr",
     "output_type": "stream",
     "text": [
      "127.0.0.1 - - [20/May/2018 16:28:11] \"GET /post_author?post_id=256445 HTTP/1.1\" 200 -\n"
     ]
    },
    {
     "name": "stdout",
     "output_type": "stream",
     "text": [
      "{\"author\": \"mnach\"}\n"
     ]
    },
    {
     "name": "stderr",
     "output_type": "stream",
     "text": [
      "127.0.0.1 - - [20/May/2018 16:28:12] \"GET /post_title?post_id=212779 HTTP/1.1\" 200 -\n"
     ]
    },
    {
     "name": "stdout",
     "output_type": "stream",
     "text": [
      "{\"title\": \"\\u0418\\u0433\\u0440\\u043e\\u0432\\u044b\\u0435 \\u0431\\u043e\\u0442\\u044b. \\u041d\\u0430\\u0447\\u0430\\u043b\\u043e\"}\n"
     ]
    },
    {
     "name": "stderr",
     "output_type": "stream",
     "text": [
      "127.0.0.1 - - [20/May/2018 16:28:12] \"GET /post_title?post_id=284416 HTTP/1.1\" 200 -\n"
     ]
    },
    {
     "name": "stdout",
     "output_type": "stream",
     "text": [
      "{\"title\": \"\\u0410\\u0432\\u0441\\u0442\\u0440\\u0430\\u043b\\u0438\\u0439\\u0441\\u043a\\u0430\\u044f \\u0446\\u0435\\u043d\\u0437\\u0443\\u0440\\u0430: \\u0441\\u0435\\u043a\\u0440\\u0435\\u0442\\u043d\\u044b\\u0439 \\u0441\\u043f\\u0438\\u0441\\u043e\\u043a \\u0437\\u0430\\u043f\\u0440\\u0435\\u0442\\u043d\\u044b\\u0445 \\u0441\\u0430\\u0439\\u0442\\u043e\\u0432 \\u0438 \\u043a\\u0440\\u0443\\u043f\\u043d\\u044b\\u0439 \\u0448\\u0442\\u0440\\u0430\\u0444\"}\n"
     ]
    },
    {
     "name": "stderr",
     "output_type": "stream",
     "text": [
      "127.0.0.1 - - [20/May/2018 16:28:13] \"GET /post_title?post_id=242987 HTTP/1.1\" 200 -\n"
     ]
    },
    {
     "name": "stdout",
     "output_type": "stream",
     "text": [
      "{\"title\": \"Wikipedia. \\u0417\\u0430\\u043f\\u0440\\u0435\\u0449\\u0435\\u043d donate \\u0438\\u0437 \\u0420\\u043e\\u0441\\u0441\\u0438\\u0438?\"}\n"
     ]
    },
    {
     "name": "stderr",
     "output_type": "stream",
     "text": [
      "127.0.0.1 - - [20/May/2018 16:28:14] \"GET /post_title?post_id=212015 HTTP/1.1\" 200 -\n"
     ]
    },
    {
     "name": "stdout",
     "output_type": "stream",
     "text": [
      "{\"title\": \"\\u0421\\u043e\\u0437\\u0434\\u0430\\u0435\\u043c \\u0442\\u0435\\u0433 Markdown \\u0441 \\u043f\\u043e\\u043c\\u043e\\u0449\\u044c\\u044e Polymer/Web Components\"}\n"
     ]
    },
    {
     "name": "stderr",
     "output_type": "stream",
     "text": [
      "127.0.0.1 - - [20/May/2018 16:28:14] \"GET /post_title?post_id=218951 HTTP/1.1\" 200 -\n"
     ]
    },
    {
     "name": "stdout",
     "output_type": "stream",
     "text": [
      "{\"title\": \"\\u0412\\u0440\\u0435\\u043c\\u044f \\u043c\\u0435\\u043d\\u044f\\u0442\\u044c \\u043f\\u0430\\u0440\\u043e\\u043b\\u0438\"}\n"
     ]
    },
    {
     "name": "stderr",
     "output_type": "stream",
     "text": [
      "127.0.0.1 - - [20/May/2018 16:28:15] \"GET /post_title?post_id=276377 HTTP/1.1\" 200 -\n"
     ]
    },
    {
     "name": "stdout",
     "output_type": "stream",
     "text": [
      "{\"title\": \"\\u0423\\u043c\\u0435\\u043d\\u044c\\u0448\\u0435\\u043d\\u0438\\u0435 \\u0440\\u0430\\u0437\\u043c\\u0435\\u0440\\u0430 \\u0442\\u043e\\u043d\\u043a\\u043e\\u0433\\u043e \\u0434\\u0438\\u0441\\u043a\\u0430 \\u0432 ESXi\"}\n"
     ]
    },
    {
     "name": "stderr",
     "output_type": "stream",
     "text": [
      "127.0.0.1 - - [20/May/2018 16:28:16] \"GET /post_date?post_id=203544 HTTP/1.1\" 200 -\n"
     ]
    },
    {
     "name": "stdout",
     "output_type": "stream",
     "text": [
      "{\"date\": \"2013-11-25\"}\n"
     ]
    },
    {
     "name": "stderr",
     "output_type": "stream",
     "text": [
      "127.0.0.1 - - [20/May/2018 16:28:16] \"GET /post_date?post_id=250481 HTTP/1.1\" 200 -\n"
     ]
    },
    {
     "name": "stdout",
     "output_type": "stream",
     "text": [
      "{\"date\": \"2015-02-12\"}\n"
     ]
    },
    {
     "name": "stderr",
     "output_type": "stream",
     "text": [
      "127.0.0.1 - - [20/May/2018 16:28:17] \"GET /post_date?post_id=235089 HTTP/1.1\" 200 -\n"
     ]
    },
    {
     "name": "stdout",
     "output_type": "stream",
     "text": [
      "{\"date\": \"2014-09-02\"}\n"
     ]
    },
    {
     "name": "stderr",
     "output_type": "stream",
     "text": [
      "127.0.0.1 - - [20/May/2018 16:28:18] \"GET /post_date?post_id=269385 HTTP/1.1\" 200 -\n"
     ]
    },
    {
     "name": "stdout",
     "output_type": "stream",
     "text": [
      "{\"date\": \"2015-10-23\"}\n"
     ]
    },
    {
     "name": "stderr",
     "output_type": "stream",
     "text": [
      "127.0.0.1 - - [20/May/2018 16:28:18] \"GET /post_date?post_id=224083 HTTP/1.1\" 200 -\n"
     ]
    },
    {
     "name": "stdout",
     "output_type": "stream",
     "text": [
      "{\"date\": \"2014-06-04\"}\n"
     ]
    },
    {
     "name": "stderr",
     "output_type": "stream",
     "text": [
      "127.0.0.1 - - [20/May/2018 16:28:19] \"GET /post_date?post_id=292176 HTTP/1.1\" 200 -\n"
     ]
    },
    {
     "name": "stdout",
     "output_type": "stream",
     "text": [
      "{\"date\": \"2015-07-03\"}\n"
     ]
    },
    {
     "name": "stderr",
     "output_type": "stream",
     "text": [
      "127.0.0.1 - - [20/May/2018 16:28:20] \"GET /post_date?post_id=284546 HTTP/1.1\" 200 -\n"
     ]
    },
    {
     "name": "stdout",
     "output_type": "stream",
     "text": [
      "{\"date\": \"2010-10-21\"}\n"
     ]
    },
    {
     "name": "stderr",
     "output_type": "stream",
     "text": [
      "127.0.0.1 - - [20/May/2018 16:28:20] \"GET /date_top_comments?date=2012-11-12&n=10 HTTP/1.1\" 200 -\n"
     ]
    },
    {
     "name": "stdout",
     "output_type": "stream",
     "text": [
      "{\"comments\": [\"284792/#comment_9397562\", \"284792/#comment_9397746\", \"284792/#comment_9397898\", \"284792/#comment_9397862\", \"284792/#comment_9397582\", \"284792/#comment_9398008\", \"284792/#comment_9397662\", \"284792/#comment_9397578\", \"284792/#comment_9397596\", \"284792/#comment_9397608\"]}\n"
     ]
    },
    {
     "name": "stderr",
     "output_type": "stream",
     "text": [
      "127.0.0.1 - - [20/May/2018 16:28:21] \"GET /date_top_comments?date=2014-08-24&n=10 HTTP/1.1\" 200 -\n"
     ]
    },
    {
     "name": "stdout",
     "output_type": "stream",
     "text": [
      "{\"comments\": [\"234361/#comment_7898777\", \"234361/#comment_7898701\", \"234361/#comment_7898741\", \"234399/#comment_7899503\", \"234361/#comment_7898793\", \"234399/#comment_7899613\", \"232505/#comment_7899211\", \"234361/#comment_7898747\", \"234361/#comment_7898851\", \"232505/#comment_7899279\"]}\n"
     ]
    },
    {
     "name": "stderr",
     "output_type": "stream",
     "text": [
      "127.0.0.1 - - [20/May/2018 16:28:22] \"GET /date_top_comments?date=2010-10-25&n=5 HTTP/1.1\" 200 -\n"
     ]
    },
    {
     "name": "stdout",
     "output_type": "stream",
     "text": [
      "{\"comments\": [\"288804/#comment_9513480\", \"288222/#comment_9491306\", \"288222/#comment_9491312\", \"288802/#comment_9513332\", \"288222/#comment_9491308\"]}\n"
     ]
    },
    {
     "name": "stderr",
     "output_type": "stream",
     "text": [
      "127.0.0.1 - - [20/May/2018 16:28:23] \"GET /date_top_comments?date=2011-11-09&n=5 HTTP/1.1\" 200 -\n"
     ]
    },
    {
     "name": "stdout",
     "output_type": "stream",
     "text": [
      "{\"comments\": [\"284630/#comment_9382936\", \"284630/#comment_9382962\", \"284630/#comment_9382926\", \"284630/#comment_9382954\", \"284630/#comment_9383108\"]}\n"
     ]
    },
    {
     "name": "stderr",
     "output_type": "stream",
     "text": [
      "127.0.0.1 - - [20/May/2018 16:28:23] \"GET /date_top_comments?date=2013-08-04&n=5 HTTP/1.1\" 200 -\n"
     ]
    },
    {
     "name": "stdout",
     "output_type": "stream",
     "text": [
      "{\"comments\": [\"297008/#comment_9577914\", \"297008/#comment_9577908\", \"297008/#comment_9577896\", \"297008/#comment_9577900\", \"297008/#comment_9577898\"]}\n"
     ]
    },
    {
     "name": "stderr",
     "output_type": "stream",
     "text": [
      "127.0.0.1 - - [20/May/2018 16:28:24] \"GET /date_top_comments?date=2011-06-25&n=7 HTTP/1.1\" 200 -\n"
     ]
    },
    {
     "name": "stdout",
     "output_type": "stream",
     "text": [
      "{\"comments\": [\"285404/#comment_9440158\", \"285404/#comment_9440196\", \"285404/#comment_9440274\", \"285404/#comment_9440182\", \"285404/#comment_9440204\", \"285404/#comment_9440168\", \"285404/#comment_9440174\"]}\n"
     ]
    },
    {
     "name": "stderr",
     "output_type": "stream",
     "text": [
      "127.0.0.1 - - [20/May/2018 16:28:25] \"GET /date_top_comments?date=2007-02-22&n=10 HTTP/1.1\" 200 -\n"
     ]
    },
    {
     "name": "stdout",
     "output_type": "stream",
     "text": [
      "{\"comments\": [\"288016/#comment_9485672\", \"288016/#comment_9485684\", \"288016/#comment_9485674\", \"288016/#comment_9485676\", \"288016/#comment_9485678\", \"288016/#comment_9485680\", \"288016/#comment_9485682\", \"288016/#comment_9485686\", \"288016/#comment_9485688\", \"288016/#comment_9485694\"]}\n"
     ]
    },
    {
     "name": "stderr",
     "output_type": "stream",
     "text": [
      "127.0.0.1 - - [20/May/2018 16:28:26] \"GET /post_top_comments?post_id=241746&n=10 HTTP/1.1\" 200 -\n"
     ]
    },
    {
     "name": "stdout",
     "output_type": "stream",
     "text": [
      "{\"comments\": [\"241746/#comment_8095530\", \"241746/#comment_8095990\", \"241746/#comment_8095102\", \"241746/#comment_8095658\", \"241746/#comment_8095878\", \"241746/#comment_8095308\", \"241746/#comment_8095634\", \"241746/#comment_8096380\", \"241746/#comment_8098597\", \"241746/#comment_8099125\"]}\n"
     ]
    },
    {
     "name": "stderr",
     "output_type": "stream",
     "text": [
      "127.0.0.1 - - [20/May/2018 16:28:27] \"GET /post_top_comments?post_id=289800&n=5 HTTP/1.1\" 200 -\n"
     ]
    },
    {
     "name": "stdout",
     "output_type": "stream",
     "text": [
      "{\"comments\": [\"289800/#comment_9538316\", \"289800/#comment_9538322\", \"289800/#comment_9538314\", \"289800/#comment_9538320\", \"289800/#comment_9538318\"]}\n"
     ]
    },
    {
     "name": "stderr",
     "output_type": "stream",
     "text": [
      "127.0.0.1 - - [20/May/2018 16:28:27] \"GET /post_top_comments?post_id=283260&n=10 HTTP/1.1\" 200 -\n"
     ]
    },
    {
     "name": "stdout",
     "output_type": "stream",
     "text": [
      "{\"comments\": [\"283260/#comment_8889974\", \"283260/#comment_8889638\", \"283260/#comment_8889918\", \"283260/#comment_8889752\", \"283260/#comment_8890084\", \"283260/#comment_8890842\", \"283260/#comment_8890994\", \"283260/#comment_8891272\", \"283260/#comment_8891344\", \"283260/#comment_8894212\"]}\n"
     ]
    },
    {
     "name": "stderr",
     "output_type": "stream",
     "text": [
      "127.0.0.1 - - [20/May/2018 16:28:28] \"GET /post_top_comments?post_id=217081&n=5 HTTP/1.1\" 200 -\n"
     ]
    },
    {
     "name": "stdout",
     "output_type": "stream",
     "text": [
      "{\"comments\": [\"217081/#comment_7436141\", \"217081/#comment_7436335\", \"217081/#comment_7436515\", \"217081/#comment_7436439\", \"217081/#comment_7436123\"]}\n"
     ]
    },
    {
     "name": "stderr",
     "output_type": "stream",
     "text": [
      "127.0.0.1 - - [20/May/2018 16:28:29] \"GET /post_top_comments?post_id=278411&n=5 HTTP/1.1\" 200 -\n"
     ]
    },
    {
     "name": "stdout",
     "output_type": "stream",
     "text": [
      "{\"comments\": [\"278411/#comment_8795463\", \"278411/#comment_8795433\", \"278411/#comment_8795457\", \"278411/#comment_8795541\", \"278411/#comment_8795551\"]}\n"
     ]
    },
    {
     "name": "stderr",
     "output_type": "stream",
     "text": [
      "127.0.0.1 - - [20/May/2018 16:28:30] \"GET /post_top_comments?post_id=269189&n=10 HTTP/1.1\" 200 -\n"
     ]
    },
    {
     "name": "stdout",
     "output_type": "stream",
     "text": [
      "{\"comments\": [\"269189/#comment_8635099\", \"269189/#comment_8635061\", \"269189/#comment_8635549\", \"269189/#comment_8635609\", \"269189/#comment_8635757\", \"269189/#comment_8635785\", \"269189/#comment_8636027\", \"269189/#comment_8649613\", \"269189/#comment_8649669\", \"269189/#comment_8650019\"]}\n"
     ]
    },
    {
     "name": "stderr",
     "output_type": "stream",
     "text": [
      "127.0.0.1 - - [20/May/2018 16:28:30] \"GET /post_top_comments?post_id=284790&n=3 HTTP/1.1\" 200 -\n"
     ]
    },
    {
     "name": "stdout",
     "output_type": "stream",
     "text": [
      "{\"comments\": [\"284790/#comment_9397292\", \"284790/#comment_9397306\", \"284790/#comment_9397276\"]}\n"
     ]
    },
    {
     "name": "stderr",
     "output_type": "stream",
     "text": [
      "127.0.0.1 - - [20/May/2018 16:28:31] \"GET /user_top_comments?username=DIKunin&n=7 HTTP/1.1\" 200 -\n"
     ]
    },
    {
     "name": "stdout",
     "output_type": "stream",
     "text": [
      "{\"comments\": [\"245853/#comment_8979620\", \"214143/#comment_7362405\", \"273829/#comment_8700457\", \"207970/#comment_7165802\", \"214711/#comment_7376381\", \"264869/#comment_8538745\", \"264869/#comment_8538809\"]}\n"
     ]
    },
    {
     "name": "stderr",
     "output_type": "stream",
     "text": [
      "127.0.0.1 - - [20/May/2018 16:28:32] \"GET /user_top_comments?username=nephrael&n=5 HTTP/1.1\" 200 -\n"
     ]
    },
    {
     "name": "stdout",
     "output_type": "stream",
     "text": [
      "{\"comments\": [\"255199/#comment_8365871\", \"255199/#comment_8365923\", \"255199/#comment_8365835\", \"204600/#comment_7054064\", \"255415/#comment_8370463\"]}\n"
     ]
    },
    {
     "name": "stderr",
     "output_type": "stream",
     "text": [
      "127.0.0.1 - - [20/May/2018 16:28:33] \"GET /user_top_comments?username=Paskal&n=7 HTTP/1.1\" 200 -\n"
     ]
    },
    {
     "name": "stdout",
     "output_type": "stream",
     "text": [
      "{\"comments\": [\"226277/#comment_7723647\", \"212769/#comment_7316485\", \"222425/#comment_7579953\", \"225605/#comment_7679295\", \"250931/#comment_8290589\", \"208782/#comment_7219938\", \"214779/#comment_7378455\"]}\n"
     ]
    },
    {
     "name": "stderr",
     "output_type": "stream",
     "text": [
      "127.0.0.1 - - [20/May/2018 16:28:34] \"GET /user_top_comments?username=antonn&n=10 HTTP/1.1\" 200 -\n"
     ]
    },
    {
     "name": "stdout",
     "output_type": "stream",
     "text": [
      "{\"comments\": [\"243033/#comment_8131119\", \"244417/#comment_8154919\", \"247575/#comment_8216275\", \"248427/#comment_8236809\", \"254473/#comment_8356253\", \"226011/#comment_7732019\", \"241453/#comment_8090829\", \"243033/#comment_8131135\", \"243033/#comment_8131523\", \"243033/#comment_8133271\"]}\n"
     ]
    },
    {
     "name": "stderr",
     "output_type": "stream",
     "text": [
      "127.0.0.1 - - [20/May/2018 16:28:34] \"GET /user_top_comments?username=Roman_Kh&n=5 HTTP/1.1\" 200 -\n"
     ]
    },
    {
     "name": "stdout",
     "output_type": "stream",
     "text": [
      "{\"comments\": [\"275455/#comment_8745875\", \"278513/#comment_8802305\", \"279117/#comment_8809093\", \"275455/#comment_8746067\", \"275455/#comment_8746111\"]}\n"
     ]
    },
    {
     "name": "stderr",
     "output_type": "stream",
     "text": [
      "127.0.0.1 - - [20/May/2018 16:28:35] \"GET /user_top_comments?username=taxigy&n=7 HTTP/1.1\" 200 -\n"
     ]
    },
    {
     "name": "stdout",
     "output_type": "stream",
     "text": [
      "{\"comments\": [\"217717/#comment_7453385\", \"249057/#comment_8249261\", \"289402/#comment_9536176\", \"289402/#comment_9536250\", \"288760/#comment_9509958\", \"288760/#comment_9509960\", \"209068/#comment_7207802\"]}\n"
     ]
    },
    {
     "name": "stderr",
     "output_type": "stream",
     "text": [
      "127.0.0.1 - - [20/May/2018 16:28:36] \"GET /post_top_comments?post_id=247319&n=5 HTTP/1.1\" 200 -\n"
     ]
    },
    {
     "name": "stdout",
     "output_type": "stream",
     "text": [
      "{\"comments\": [\"247319/#comment_9164430\", \"247319/#comment_9164448\", \"247319/#comment_9164442\", \"247319/#comment_9164446\", \"247319/#comment_9164432\"]}\n"
     ]
    },
    {
     "name": "stderr",
     "output_type": "stream",
     "text": [
      "127.0.0.1 - - [20/May/2018 16:28:37] \"GET /post_title?post_id=229393 HTTP/1.1\" 200 -\n"
     ]
    },
    {
     "name": "stdout",
     "output_type": "stream",
     "text": [
      "{\"title\": \"\\u041f\\u0443\\u0442\\u0435\\u0448\\u0435\\u0441\\u0442\\u0432\\u0438\\u044f \\u0431\\u0430\\u043d\\u043a\\u043e\\u0432\\u0441\\u043a\\u043e\\u0439 \\u0442\\u0440\\u0430\\u043d\\u0437\\u0430\\u043a\\u0446\\u0438\\u0438\"}\n"
     ]
    },
    {
     "name": "stderr",
     "output_type": "stream",
     "text": [
      "127.0.0.1 - - [20/May/2018 16:28:37] \"GET /post_author?post_id=201576 HTTP/1.1\" 200 -\n"
     ]
    },
    {
     "name": "stdout",
     "output_type": "stream",
     "text": [
      "{\"author\": \"Dinisoid\"}\n"
     ]
    },
    {
     "name": "stderr",
     "output_type": "stream",
     "text": [
      "127.0.0.1 - - [20/May/2018 16:28:38] \"GET /post_date?post_id=201576 HTTP/1.1\" 200 -\n"
     ]
    },
    {
     "name": "stdout",
     "output_type": "stream",
     "text": [
      "{\"date\": \"2013-11-10\"}\n"
     ]
    },
    {
     "name": "stderr",
     "output_type": "stream",
     "text": [
      "127.0.0.1 - - [20/May/2018 16:28:39] \"GET /date_top_comments?date=2016-04-01&n=5 HTTP/1.1\" 200 -\n"
     ]
    },
    {
     "name": "stdout",
     "output_type": "stream",
     "text": [
      "{\"comments\": [\"280664/#comment_8834074\", \"280682/#comment_8834860\", \"280610/#comment_8835510\", \"280682/#comment_8834796\", \"280660/#comment_9686278\"]}\n"
     ]
    },
    {
     "name": "stderr",
     "output_type": "stream",
     "text": [
      "127.0.0.1 - - [20/May/2018 16:28:40] \"GET /user_top_comments?username=zee&n=5 HTTP/1.1\" 200 -\n"
     ]
    },
    {
     "name": "stdout",
     "output_type": "stream",
     "text": [
      "{\"comments\": [\"234663/#comment_7906781\", \"229431/#comment_7766665\", \"222855/#comment_7588523\", \"229981/#comment_7781643\", \"222855/#comment_7589071\"]}\n"
     ]
    },
    {
     "ename": "KeyboardInterrupt",
     "evalue": "",
     "output_type": "error",
     "traceback": [
      "\u001b[1;31m---------------------------------------------------------------------------\u001b[0m",
      "\u001b[1;31mKeyboardInterrupt\u001b[0m                         Traceback (most recent call last)",
      "\u001b[1;32m<ipython-input-3-8b78c1b53b5a>\u001b[0m in \u001b[0;36m<module>\u001b[1;34m()\u001b[0m\n\u001b[0;32m    134\u001b[0m \u001b[1;32mprint\u001b[0m \u001b[0mcursor\u001b[0m\u001b[1;33m.\u001b[0m\u001b[0mfetchall\u001b[0m\u001b[1;33m(\u001b[0m\u001b[1;33m)\u001b[0m\u001b[1;33m\u001b[0m\u001b[0m\n\u001b[0;32m    135\u001b[0m \u001b[0mserv\u001b[0m \u001b[1;33m=\u001b[0m \u001b[0mHTTPServer\u001b[0m\u001b[1;33m(\u001b[0m\u001b[1;33m(\u001b[0m\u001b[1;34m\"127.0.0.1\"\u001b[0m\u001b[1;33m,\u001b[0m\u001b[0mPORT\u001b[0m\u001b[1;33m)\u001b[0m\u001b[1;33m,\u001b[0m \u001b[0mHttpProcessor\u001b[0m\u001b[1;33m)\u001b[0m\u001b[1;33m\u001b[0m\u001b[0m\n\u001b[1;32m--> 136\u001b[1;33m \u001b[0mserv\u001b[0m\u001b[1;33m.\u001b[0m\u001b[0mserve_forever\u001b[0m\u001b[1;33m(\u001b[0m\u001b[1;33m)\u001b[0m\u001b[1;33m\u001b[0m\u001b[0m\n\u001b[0m",
      "\u001b[1;32mE:\\Anaconda2\\lib\\SocketServer.pyc\u001b[0m in \u001b[0;36mserve_forever\u001b[1;34m(self, poll_interval)\u001b[0m\n\u001b[0;32m    229\u001b[0m                 \u001b[1;31m# shutdown request and wastes cpu at all other times.\u001b[0m\u001b[1;33m\u001b[0m\u001b[1;33m\u001b[0m\u001b[0m\n\u001b[0;32m    230\u001b[0m                 r, w, e = _eintr_retry(select.select, [self], [], [],\n\u001b[1;32m--> 231\u001b[1;33m                                        poll_interval)\n\u001b[0m\u001b[0;32m    232\u001b[0m                 \u001b[1;32mif\u001b[0m \u001b[0mself\u001b[0m \u001b[1;32min\u001b[0m \u001b[0mr\u001b[0m\u001b[1;33m:\u001b[0m\u001b[1;33m\u001b[0m\u001b[0m\n\u001b[0;32m    233\u001b[0m                     \u001b[0mself\u001b[0m\u001b[1;33m.\u001b[0m\u001b[0m_handle_request_noblock\u001b[0m\u001b[1;33m(\u001b[0m\u001b[1;33m)\u001b[0m\u001b[1;33m\u001b[0m\u001b[0m\n",
      "\u001b[1;32mE:\\Anaconda2\\lib\\SocketServer.pyc\u001b[0m in \u001b[0;36m_eintr_retry\u001b[1;34m(func, *args)\u001b[0m\n\u001b[0;32m    148\u001b[0m     \u001b[1;32mwhile\u001b[0m \u001b[0mTrue\u001b[0m\u001b[1;33m:\u001b[0m\u001b[1;33m\u001b[0m\u001b[0m\n\u001b[0;32m    149\u001b[0m         \u001b[1;32mtry\u001b[0m\u001b[1;33m:\u001b[0m\u001b[1;33m\u001b[0m\u001b[0m\n\u001b[1;32m--> 150\u001b[1;33m             \u001b[1;32mreturn\u001b[0m \u001b[0mfunc\u001b[0m\u001b[1;33m(\u001b[0m\u001b[1;33m*\u001b[0m\u001b[0margs\u001b[0m\u001b[1;33m)\u001b[0m\u001b[1;33m\u001b[0m\u001b[0m\n\u001b[0m\u001b[0;32m    151\u001b[0m         \u001b[1;32mexcept\u001b[0m \u001b[1;33m(\u001b[0m\u001b[0mOSError\u001b[0m\u001b[1;33m,\u001b[0m \u001b[0mselect\u001b[0m\u001b[1;33m.\u001b[0m\u001b[0merror\u001b[0m\u001b[1;33m)\u001b[0m \u001b[1;32mas\u001b[0m \u001b[0me\u001b[0m\u001b[1;33m:\u001b[0m\u001b[1;33m\u001b[0m\u001b[0m\n\u001b[0;32m    152\u001b[0m             \u001b[1;32mif\u001b[0m \u001b[0me\u001b[0m\u001b[1;33m.\u001b[0m\u001b[0margs\u001b[0m\u001b[1;33m[\u001b[0m\u001b[1;36m0\u001b[0m\u001b[1;33m]\u001b[0m \u001b[1;33m!=\u001b[0m \u001b[0merrno\u001b[0m\u001b[1;33m.\u001b[0m\u001b[0mEINTR\u001b[0m\u001b[1;33m:\u001b[0m\u001b[1;33m\u001b[0m\u001b[0m\n",
      "\u001b[1;31mKeyboardInterrupt\u001b[0m: "
     ]
    }
   ],
   "source": [
    "#import CGIHTTPServer\n",
    "#import SimpleHTTPServer\n",
    "from BaseHTTPServer import BaseHTTPRequestHandler, HTTPServer\n",
    "import sqlite3 as lite\n",
    "import json\n",
    "con = lite.connect('server_fin.db')\n",
    "cursor = con.cursor()\n",
    "\n",
    "PORT = 6780\n",
    "\n",
    "Handler = BaseHTTPRequestHandler\n",
    "\n",
    "class HttpProcessor(BaseHTTPRequestHandler):\n",
    "    \n",
    "\n",
    "    def do_GET(self):\n",
    "        try:\n",
    "            args =  self.path.split('?')\n",
    "            if (args[0] == '/post_top_comments'):\n",
    "                self.post_top_comments(args[1])\n",
    "            if (args[0] == '/post_title'):\n",
    "                self.post_title(args[1])\n",
    "            if (args[0] == '/post_author'):\n",
    "                self.post_author(args[1])\n",
    "            if (args[0] == '/post_date'):\n",
    "                self.post_date(args[1])\n",
    "            if (args[0] == '/date_top_comments'):\n",
    "                self.date_top_comments(args[1])\n",
    "            if (args[0] == '/user_top_comments'):\n",
    "                self.user_top_comments(args[1])\n",
    "        except Exception:\n",
    "            self.send_response(200)\n",
    "            self.send_header('content-type','text/html')\n",
    "            self.end_headers()\n",
    "            self.wfile.write(\"error\")\n",
    "\n",
    "\n",
    "        #self.send_response(200)\n",
    "        #self.send_header('content-type','text/html')\n",
    "        #self.end_headers()\n",
    "        #self.wfile.write(\"hello !\")\n",
    "\n",
    "    def post_title(self, args):\n",
    "        id = int(args.split('=')[1])\n",
    "        cursor.execute(\"SELECT title FROM posts WHERE id=?\", [(id)])\n",
    "        title = (cursor.fetchall()[0])[0]\n",
    "        json_string = json.dumps({'title' : title })\n",
    "        self.send_response(200)\n",
    "        self.send_header('content-type', 'text/html')\n",
    "        self.end_headers()\n",
    "        self.wfile.write(json_string)\n",
    "        print json_string\n",
    "\n",
    "\n",
    "    def post_author(self, args):\n",
    "        id = int(args.split('=')[1])\n",
    "        cursor.execute(\"SELECT author FROM posts WHERE id=?\", [(id)])\n",
    "        author = (cursor.fetchall()[0])[0]\n",
    "        json_string = json.dumps({'author': author})\n",
    "        self.send_response(200)\n",
    "        self.send_header('content-type', 'text/html')\n",
    "        self.end_headers()\n",
    "        self.wfile.write(json_string)\n",
    "        print json_string\n",
    "\n",
    "    def post_top_comments(self, args):\n",
    "        a = args.split('&')\n",
    "        n = int(a[1].split('=')[1])\n",
    "        p_id = int(a[0].split('=')[1])\n",
    "        cursor.execute(\"SELECT rate, date, post_id, id, time FROM comments WHERE post_id=?\", [(p_id)])\n",
    "        comments = cursor.fetchall()\n",
    "        comments.sort(key=lambda tup: (-tup[0], tup[1], tup[4]), reverse=False)\n",
    "        res = []\n",
    "        for i in comments[:n]:\n",
    "            res.append(str(i[2]) + '/#comment_' + str(i[3]))\n",
    "        json_string = json.dumps({'comments': res})\n",
    "        self.send_response(200)\n",
    "        self.send_header('content-type', 'text/html')\n",
    "        self.end_headers()\n",
    "        self.wfile.write(json_string)\n",
    "        print json_string\n",
    "\n",
    "\n",
    "    def post_date(self, args):\n",
    "        id = int(args.split('=')[1])\n",
    "        cursor.execute(\"SELECT date FROM posts WHERE id=?\", [(id)])\n",
    "        date = (cursor.fetchall()[0])[0]\n",
    "        json_string = json.dumps({'date': date})\n",
    "        self.send_response(200)\n",
    "        self.send_header('content-type', 'text/html')\n",
    "        self.end_headers()\n",
    "        self.wfile.write(json_string)\n",
    "        print json_string\n",
    "\n",
    "    def date_top_comments(self, args):\n",
    "        a = args.split('&')\n",
    "        n = int(a[1].split('=')[1])\n",
    "        date = a[0].split('=')[1]\n",
    "        cursor.execute(\"SELECT rate, post_id, id, time FROM comments WHERE date=?\", [(date)])\n",
    "        comments = cursor.fetchall()\n",
    "        comments.sort(key=lambda tup: (-tup[0], tup[3]), reverse=False)\n",
    "        res = []\n",
    "        for i in comments[:n]:\n",
    "            res.append(str(i[1]) + '/#comment_' + str(i[2]))\n",
    "        json_string = json.dumps({'comments': res})\n",
    "        self.send_response(200)\n",
    "        self.send_header('content-type', 'text/html')\n",
    "        self.end_headers()\n",
    "        self.wfile.write(json_string)\n",
    "        print json_string\n",
    "\n",
    "\n",
    "    def user_top_comments(self, args):\n",
    "        a = args.split('&')\n",
    "        n = int(a[1].split('=')[1])\n",
    "        name = a[0].split('=')[1]\n",
    "        cursor.execute(\"SELECT rate, date, post_id, id, time FROM comments WHERE author=?\", [(name)])\n",
    "        comments = cursor.fetchall()\n",
    "        comments.sort(key = lambda tup : (-tup[0], tup[1], tup[4]), reverse=False)\n",
    "        res = []\n",
    "        for i in comments[:n]:\n",
    "            res.append(str(i[2])+'/#comment_'+str(i[3]))\n",
    "        json_string = json.dumps({'comments': res})\n",
    "        self.send_response(200)\n",
    "        self.send_header('content-type', 'text/html')\n",
    "        self.end_headers()\n",
    "        self.wfile.write(json_string)\n",
    "        print json_string\n",
    "\n",
    "\n",
    "\n",
    "#proc = HttpProcessor()\n",
    "#proc.connect_db(cursor)\n",
    "print cursor.fetchall()\n",
    "serv = HTTPServer((\"127.0.0.1\",PORT), HttpProcessor)\n",
    "serv.serve_forever()"
   ]
  },
  {
   "cell_type": "code",
   "execution_count": null,
   "metadata": {},
   "outputs": [],
   "source": []
  }
 ],
 "metadata": {
  "kernelspec": {
   "display_name": "Python 2",
   "language": "python",
   "name": "python2"
  },
  "language_info": {
   "codemirror_mode": {
    "name": "ipython",
    "version": 2
   },
   "file_extension": ".py",
   "mimetype": "text/x-python",
   "name": "python",
   "nbconvert_exporter": "python",
   "pygments_lexer": "ipython2",
   "version": "2.7.14"
  }
 },
 "nbformat": 4,
 "nbformat_minor": 2
}
