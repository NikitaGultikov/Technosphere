{
 "cells": [
  {
   "cell_type": "code",
   "execution_count": 1,
   "metadata": {},
   "outputs": [],
   "source": [
    "import requests\n",
    "from bs4 import BeautifulSoup\n",
    "import csv\n",
    "from random import choice, uniform"
   ]
  },
  {
   "cell_type": "markdown",
   "metadata": {},
   "source": [
    "## Парсим одну страницу"
   ]
  },
  {
   "cell_type": "code",
   "execution_count": 2,
   "metadata": {},
   "outputs": [],
   "source": [
    "def get_html(url, useragent=None, proxy=None):\n",
    "    response = requests.get(url, headers=useragent, proxies=proxy)\n",
    "    return response.content"
   ]
  },
  {
   "cell_type": "code",
   "execution_count": 3,
   "metadata": {},
   "outputs": [],
   "source": [
    "url = 'https://www.cian.ru/sale/flat/160894237/'\n",
    "# url = 'https://www.cian.ru/cat.php?deal_type=sale&engine_version=2&offer_type=flat&p=2&region=1'\n",
    "soup = BeautifulSoup(get_html(url), 'lxml')"
   ]
  },
  {
   "cell_type": "code",
   "execution_count": 4,
   "metadata": {},
   "outputs": [],
   "source": [
    "#общая информация\n",
    "def func1(soup):\n",
    "    l = []\n",
    "\n",
    "    bs = soup.find('span', text='Тип жилья')\n",
    "    if bs is not None:\n",
    "        l.append(bs.find_next().text)\n",
    "    else:\n",
    "        l.append(0)\n",
    "        \n",
    "    bs = soup.find('span', text='Количество комнат')\n",
    "    if bs is not None:\n",
    "        l.append(bs.find_next().text)\n",
    "    else:\n",
    "        l.append(0)\n",
    "    \n",
    "    bs = soup.find('span', text='Этаж')\n",
    "    if bs is not None:\n",
    "        l.append(bs.find_next().text)\n",
    "    else:\n",
    "        l.append(0)\n",
    "    \n",
    "    bs = soup.find('span', text='Этажей в доме')\n",
    "    if bs is not None:\n",
    "        l.append(bs.find_next().text)\n",
    "    else:\n",
    "        l.append(0)\n",
    "    \n",
    "    bs = soup.find('span', text='Тип дома')\n",
    "    if bs is not None:\n",
    "        l.append(bs.find_next().text)\n",
    "    else:\n",
    "        bs = soup.find('div', text='Материалы стен')\n",
    "        if bs is not None:\n",
    "            l.append(bs.find_next().text)\n",
    "        else:\n",
    "            l.append(0)\n",
    "    \n",
    "    bs = soup.find('span', text='Ремонт')\n",
    "    if bs is not None:\n",
    "        l.append(bs.find_next().text)\n",
    "    else:\n",
    "        bs = soup.find('span', text='Отделка')\n",
    "        if bs is not None:\n",
    "            l.append(bs.find_next().text)\n",
    "        else:\n",
    "            l.append(0)\n",
    "    \n",
    "    # дополнительные данные\n",
    "    bs = soup.find('span', text='Совмещённый санузел')\n",
    "    if bs is not None:\n",
    "        l.append(bs.find_next().text)\n",
    "    else:\n",
    "        l.append(0)\n",
    "    \n",
    "    bs = soup.find('span', text='Раздельный санузел')\n",
    "    if bs is not None:\n",
    "        l.append(bs.find_next().text)\n",
    "    else:\n",
    "        l.append(0)\n",
    "        \n",
    "    bs = soup.find('span', text='Высота потолков')\n",
    "    if bs is not None:\n",
    "        s = bs.find_next().text\n",
    "        s = s.replace('м', '')\n",
    "        s = s.replace(' ', '')\n",
    "        s = s.replace(',', '.')\n",
    "        l.append(s)\n",
    "    else:\n",
    "        l.append(0)\n",
    "\n",
    "    bs = soup.find('li', text='Пассажирский лифт')\n",
    "    if bs is not None:\n",
    "        l.append(1)\n",
    "    else:\n",
    "        l.append(0)\n",
    "    \n",
    "    bs = soup.find('li', text='Грузовой лифт')\n",
    "    if bs is not None:\n",
    "        l.append(1)\n",
    "    else:\n",
    "        l.append(0)\n",
    "    \n",
    "    bs = soup.find('li', text='Лоджия')\n",
    "    if bs is not None:\n",
    "        l.append(1)\n",
    "    else:\n",
    "        l.append(0)\n",
    "    \n",
    "    bs = soup.find('li', text='Паркинг')\n",
    "    if bs is not None:\n",
    "        l.append(1)\n",
    "    else:\n",
    "        l.append(0)\n",
    "        \n",
    "    bs = soup.find('li', text='Балкон')\n",
    "    if bs is not None:\n",
    "        l.append(1)\n",
    "    else:\n",
    "        l.append(0)\n",
    "    \n",
    "    bs = soup.find('div', text='Население')\n",
    "    if bs is not None:\n",
    "        s = bs.find_next().text\n",
    "        s = s.replace(' ', '')\n",
    "        s = s.replace('\\xa0','')\n",
    "        s = s.replace('человек', '')\n",
    "        s = s.replace('а', '')\n",
    "        l.append(s)\n",
    "    else:\n",
    "        l.append(0)\n",
    "    \n",
    "    bs = soup.find('div', text='Вид из окон')\n",
    "    if bs is not None:\n",
    "        l.append(bs.find_next().text)\n",
    "    else:\n",
    "        l.append(0)\n",
    "    \n",
    "    return l"
   ]
  },
  {
   "cell_type": "code",
   "execution_count": 5,
   "metadata": {},
   "outputs": [
    {
     "data": {
      "text/plain": [
       "['Вторичка',\n",
       " '3',\n",
       " '7',\n",
       " '25',\n",
       " 'Панельный',\n",
       " 'Без ремонта',\n",
       " 0,\n",
       " '1',\n",
       " '2.7',\n",
       " 1,\n",
       " 1,\n",
       " 1,\n",
       " 0,\n",
       " 1,\n",
       " '35933',\n",
       " 0]"
      ]
     },
     "execution_count": 5,
     "metadata": {},
     "output_type": "execute_result"
    }
   ],
   "source": [
    "func1(soup)"
   ]
  },
  {
   "cell_type": "code",
   "execution_count": 6,
   "metadata": {},
   "outputs": [],
   "source": [
    "# цена\n",
    "def func2(soup):\n",
    "    inf = soup.find('span', itemprop=\"price\")\n",
    "    s = inf.text.replace('\\xa0','')\n",
    "    s = s.replace(' ','')\n",
    "    s = s.replace('₽','')\n",
    "    return [s]"
   ]
  },
  {
   "cell_type": "code",
   "execution_count": 7,
   "metadata": {},
   "outputs": [
    {
     "data": {
      "text/plain": [
       "['8665954']"
      ]
     },
     "execution_count": 7,
     "metadata": {},
     "output_type": "execute_result"
    }
   ],
   "source": [
    "func2(soup)"
   ]
  },
  {
   "cell_type": "code",
   "execution_count": 8,
   "metadata": {},
   "outputs": [],
   "source": [
    "#описание\n",
    "def func3(soup):\n",
    "    l=[]\n",
    "\n",
    "    h = soup.find('div', id='description')\n",
    "    \n",
    "    bs = h.find('div', text='Общая')\n",
    "    if bs is not None:\n",
    "        s = bs.find_next().text\n",
    "        s = s.replace('м²','')\n",
    "        s = s.replace(' ', '')\n",
    "        s = s.replace(',', '.')\n",
    "        l.append(s)\n",
    "    else:\n",
    "        l.append(0)\n",
    "        \n",
    "    bs = h.find('div', text='Жилая')\n",
    "    if bs is not None:\n",
    "        s = bs.find_next().text\n",
    "        s = s.replace('м²','')\n",
    "        s = s.replace(' ', '')\n",
    "        s = s.replace(',', '.')\n",
    "        l.append(s)\n",
    "    else:\n",
    "        l.append(0)    \n",
    "    \n",
    "    bs = h.find('div', text='Кухня')\n",
    "    if bs is not None:\n",
    "        s = bs.find_next().text\n",
    "        s = s.replace('м²','')\n",
    "        s = s.replace(' ', '')\n",
    "        s = s.replace(',', '.')\n",
    "        l.append(s)\n",
    "    else:\n",
    "        l.append(0) \n",
    "    \n",
    "    bs = soup.find('div', text='Построен')\n",
    "    if bs is not None:\n",
    "        l.append(bs.find_next().text)\n",
    "    else:\n",
    "        bs = soup.find('div', text='Срок сдачи')\n",
    "        if bs is not None:\n",
    "            s = bs.find_next().text \n",
    "            s = s.split(' ')[-1]\n",
    "            l.append(s)\n",
    "        else:\n",
    "            bs = soup.find('div', text='Год постройки')\n",
    "            if bs is not None:\n",
    "                l.append(bs.find_next().text)\n",
    "            else:\n",
    "                l.append(0) \n",
    "            \n",
    "\n",
    "    return l"
   ]
  },
  {
   "cell_type": "code",
   "execution_count": 9,
   "metadata": {},
   "outputs": [
    {
     "data": {
      "text/plain": [
       "['88.2', '45', '13.9', '2017']"
      ]
     },
     "execution_count": 9,
     "metadata": {},
     "output_type": "execute_result"
    }
   ],
   "source": [
    "func3(soup)"
   ]
  },
  {
   "cell_type": "code",
   "execution_count": 10,
   "metadata": {},
   "outputs": [],
   "source": [
    "def func4(soup):\n",
    "    h = soup.find_all('span')\n",
    "    count = 0\n",
    "    for i in h:\n",
    "        if count == 1:\n",
    "            s = i.text\n",
    "            break\n",
    "        if i.text.find('На карте') != -1:\n",
    "            count = 1\n",
    "    s = s.replace(',', '')\n",
    "    return [s]"
   ]
  },
  {
   "cell_type": "code",
   "execution_count": 11,
   "metadata": {},
   "outputs": [
    {
     "data": {
      "text/plain": [
       "['В избранноеДобавлено в избранноеВойдите для просмотра избранного с любого устройстваВойтиЗарегистрироваться']"
      ]
     },
     "execution_count": 11,
     "metadata": {},
     "output_type": "execute_result"
    }
   ],
   "source": [
    "func4(soup)"
   ]
  },
  {
   "cell_type": "code",
   "execution_count": 12,
   "metadata": {},
   "outputs": [],
   "source": [
    "def func5(soup):\n",
    "    bs = soup.find('span', itemprop=\"name\")\n",
    "    return [bs.get('content')]"
   ]
  },
  {
   "cell_type": "code",
   "execution_count": 13,
   "metadata": {},
   "outputs": [
    {
     "data": {
      "text/plain": [
       "['Москва, ЮВАО, р-н Некрасовка, ул. Вертолетчиков, 13']"
      ]
     },
     "execution_count": 13,
     "metadata": {},
     "output_type": "execute_result"
    }
   ],
   "source": [
    "func5(soup)"
   ]
  },
  {
   "cell_type": "code",
   "execution_count": null,
   "metadata": {},
   "outputs": [],
   "source": []
  },
  {
   "cell_type": "markdown",
   "metadata": {},
   "source": [
    "## Парсим почти все страницы"
   ]
  },
  {
   "cell_type": "code",
   "execution_count": 14,
   "metadata": {},
   "outputs": [],
   "source": [
    "def get_links(url, userag, prox):\n",
    "    soup = BeautifulSoup(get_html(url, userag, prox), 'lxml')\n",
    "    bs = soup.find_all('a')\n",
    "    links = set()\n",
    "    for i in bs:\n",
    "        if '/sale/flat/' in i.get('href', ''):\n",
    "            links.add(i.get('href', ''))\n",
    "    return links"
   ]
  },
  {
   "cell_type": "markdown",
   "metadata": {},
   "source": [
    "## Записываем в файл"
   ]
  },
  {
   "cell_type": "code",
   "execution_count": 26,
   "metadata": {},
   "outputs": [
    {
     "data": {
      "text/plain": [
       "[0, 0, 0, 0, 0, 0, 0, 0, 0, 0, 0, 0, 0, 0, 0, 0]"
      ]
     },
     "execution_count": 26,
     "metadata": {},
     "output_type": "execute_result"
    }
   ],
   "source": [
    "url = 'https://www.cian.ru/sale/flat/160894237/'\n",
    "soup = BeautifulSoup(get_html(url), 'lxml')\n",
    "func1(soup)"
   ]
  },
  {
   "cell_type": "code",
   "execution_count": 25,
   "metadata": {},
   "outputs": [
    {
     "name": "stdout",
     "output_type": "stream",
     "text": [
      "1\n",
      "2\n",
      "3\n",
      "4\n",
      "5\n",
      "6\n",
      "7\n",
      "8\n",
      "9\n",
      "10\n",
      "11\n",
      "12\n",
      "13\n",
      "14\n",
      "15\n",
      "16\n",
      "17\n",
      "18\n"
     ]
    },
    {
     "ename": "AttributeError",
     "evalue": "'NoneType' object has no attribute 'text'",
     "output_type": "error",
     "traceback": [
      "\u001b[1;31m---------------------------------------------------------------------------\u001b[0m",
      "\u001b[1;31mAttributeError\u001b[0m                            Traceback (most recent call last)",
      "\u001b[1;32m<ipython-input-25-21d44efc620c>\u001b[0m in \u001b[0;36m<module>\u001b[1;34m()\u001b[0m\n\u001b[0;32m     29\u001b[0m             \u001b[0ml\u001b[0m \u001b[1;33m=\u001b[0m \u001b[1;33m[\u001b[0m\u001b[1;33m]\u001b[0m\u001b[1;33m\u001b[0m\u001b[0m\n\u001b[0;32m     30\u001b[0m             \u001b[0ml\u001b[0m\u001b[1;33m.\u001b[0m\u001b[0mextend\u001b[0m\u001b[1;33m(\u001b[0m\u001b[0mfunc1\u001b[0m\u001b[1;33m(\u001b[0m\u001b[0msoup\u001b[0m\u001b[1;33m)\u001b[0m\u001b[1;33m)\u001b[0m\u001b[1;33m\u001b[0m\u001b[0m\n\u001b[1;32m---> 31\u001b[1;33m             \u001b[0ml\u001b[0m\u001b[1;33m.\u001b[0m\u001b[0mextend\u001b[0m\u001b[1;33m(\u001b[0m\u001b[0mfunc2\u001b[0m\u001b[1;33m(\u001b[0m\u001b[0msoup\u001b[0m\u001b[1;33m)\u001b[0m\u001b[1;33m)\u001b[0m\u001b[1;33m\u001b[0m\u001b[0m\n\u001b[0m\u001b[0;32m     32\u001b[0m             \u001b[0ml\u001b[0m\u001b[1;33m.\u001b[0m\u001b[0mextend\u001b[0m\u001b[1;33m(\u001b[0m\u001b[0mfunc3\u001b[0m\u001b[1;33m(\u001b[0m\u001b[0msoup\u001b[0m\u001b[1;33m)\u001b[0m\u001b[1;33m)\u001b[0m\u001b[1;33m\u001b[0m\u001b[0m\n\u001b[0;32m     33\u001b[0m             \u001b[0ml\u001b[0m\u001b[1;33m.\u001b[0m\u001b[0mextend\u001b[0m\u001b[1;33m(\u001b[0m\u001b[0mfunc4\u001b[0m\u001b[1;33m(\u001b[0m\u001b[0msoup\u001b[0m\u001b[1;33m)\u001b[0m\u001b[1;33m)\u001b[0m\u001b[1;33m\u001b[0m\u001b[0m\n",
      "\u001b[1;32m<ipython-input-6-a0875bc283e9>\u001b[0m in \u001b[0;36mfunc2\u001b[1;34m(soup)\u001b[0m\n\u001b[0;32m      2\u001b[0m \u001b[1;32mdef\u001b[0m \u001b[0mfunc2\u001b[0m\u001b[1;33m(\u001b[0m\u001b[0msoup\u001b[0m\u001b[1;33m)\u001b[0m\u001b[1;33m:\u001b[0m\u001b[1;33m\u001b[0m\u001b[0m\n\u001b[0;32m      3\u001b[0m     \u001b[0minf\u001b[0m \u001b[1;33m=\u001b[0m \u001b[0msoup\u001b[0m\u001b[1;33m.\u001b[0m\u001b[0mfind\u001b[0m\u001b[1;33m(\u001b[0m\u001b[1;34m'span'\u001b[0m\u001b[1;33m,\u001b[0m \u001b[0mitemprop\u001b[0m\u001b[1;33m=\u001b[0m\u001b[1;34m\"price\"\u001b[0m\u001b[1;33m)\u001b[0m\u001b[1;33m\u001b[0m\u001b[0m\n\u001b[1;32m----> 4\u001b[1;33m     \u001b[0ms\u001b[0m \u001b[1;33m=\u001b[0m \u001b[0minf\u001b[0m\u001b[1;33m.\u001b[0m\u001b[0mtext\u001b[0m\u001b[1;33m.\u001b[0m\u001b[0mreplace\u001b[0m\u001b[1;33m(\u001b[0m\u001b[1;34m'\\xa0'\u001b[0m\u001b[1;33m,\u001b[0m\u001b[1;34m''\u001b[0m\u001b[1;33m)\u001b[0m\u001b[1;33m\u001b[0m\u001b[0m\n\u001b[0m\u001b[0;32m      5\u001b[0m     \u001b[0ms\u001b[0m \u001b[1;33m=\u001b[0m \u001b[0ms\u001b[0m\u001b[1;33m.\u001b[0m\u001b[0mreplace\u001b[0m\u001b[1;33m(\u001b[0m\u001b[1;34m' '\u001b[0m\u001b[1;33m,\u001b[0m\u001b[1;34m''\u001b[0m\u001b[1;33m)\u001b[0m\u001b[1;33m\u001b[0m\u001b[0m\n\u001b[0;32m      6\u001b[0m     \u001b[0ms\u001b[0m \u001b[1;33m=\u001b[0m \u001b[0ms\u001b[0m\u001b[1;33m.\u001b[0m\u001b[0mreplace\u001b[0m\u001b[1;33m(\u001b[0m\u001b[1;34m'₽'\u001b[0m\u001b[1;33m,\u001b[0m\u001b[1;34m''\u001b[0m\u001b[1;33m)\u001b[0m\u001b[1;33m\u001b[0m\u001b[0m\n",
      "\u001b[1;31mAttributeError\u001b[0m: 'NoneType' object has no attribute 'text'"
     ]
    }
   ],
   "source": [
    "#Num = 4360 440\n",
    "#https://www.cian.ru/cat.php?deal_type=sale&engine_version=2&offer_type=flat&p=3&quality=1&region=1&sort=id_user\n",
    "Num = 4000\n",
    "data = 'type_of_accommodation,number_of_rooms,floor,floors,type_of_house,repair,combined_bathroom,shared_bathroom,ceiling_height,passenger_elevator,cargo_elevator,loggia,parking,balcony,population,view_from_the_windows,price,total_area,living_area,kitchen_area,year_of_construction,till_metro,address'\n",
    "#useragents = open('useragents.txt').read().split('\\n')\n",
    "#proxies = open('proxies.txt').read().split('\\n')\n",
    "\n",
    "with open('2.csv', 'a') as file:\n",
    "    writer = csv.writer(file, delimiter = ',')\n",
    "    #writer.writerow(data.split(','))\n",
    "    \n",
    "    for i in range(1, Num):\n",
    "        #url = 'https://www.cian.ru/cat.php?deal_type=sale&engine_version=2&offer_type=flat&p='+str(i)+'&region=1'\n",
    "        url = 'https://www.cian.ru/cat.php?deal_type=sale&engine_version=2&offer_type=flat&p='+str(i)+'&quality=1&region=1&sort=id_user'\n",
    "        #url = 'https://www.cian.ru/cat.php?deal_type=sale&engine_version=2&offer_type=flat&p='+str(i)+'&quality=1&region=1&sort=street_name'\n",
    "        #url = 'https://www.cian.ru/cat.php?deal_type=sale&engine_version=2&offer_type=flat&p='+str(i)+'&quality=1&region=1&sort=price_square_order'\n",
    "        #url = 'https://www.cian.ru/cat.php?deal_type=sale&engine_version=2&offer_type=flat&p='+str(i)+'&quality=1&region=1&sort=price_object_order'\n",
    "        #url = 'https://www.cian.ru/cat.php?deal_type=sale&engine_version=2&offer_type=flat&p='+str(i)+'&quality=1&region=1&sort=walking_time'\n",
    "        #useragent = {'User-Agent': choice(useragents)}\n",
    "        #proxy = {'http': 'http://' + choice(proxies)}\n",
    "        proxy = None\n",
    "        useragent = None\n",
    "        \n",
    "        links = get_links(url, useragent, proxy)\n",
    "        for link in links:\n",
    "            #useragent = {'User-Agent': choice(useragents)}\n",
    "            #proxy = {'http': 'http://' + choice(proxies)}\n",
    "            soup = BeautifulSoup(get_html(link, useragent, proxy), 'lxml')\n",
    "            l = []\n",
    "            l.extend(func1(soup))\n",
    "            l.extend(func2(soup))\n",
    "            l.extend(func3(soup))\n",
    "            l.extend(func4(soup))\n",
    "            l.extend(func5(soup))\n",
    "            writer.writerow(l)\n",
    "        print(i)\n",
    "    "
   ]
  },
  {
   "cell_type": "code",
   "execution_count": null,
   "metadata": {},
   "outputs": [],
   "source": []
  },
  {
   "cell_type": "code",
   "execution_count": null,
   "metadata": {},
   "outputs": [],
   "source": []
  },
  {
   "cell_type": "code",
   "execution_count": null,
   "metadata": {},
   "outputs": [],
   "source": []
  },
  {
   "cell_type": "code",
   "execution_count": null,
   "metadata": {},
   "outputs": [],
   "source": []
  },
  {
   "cell_type": "code",
   "execution_count": 27,
   "metadata": {},
   "outputs": [],
   "source": [
    "import numpy as np\n",
    "import pandas as pd\n",
    "import csv"
   ]
  },
  {
   "cell_type": "code",
   "execution_count": 28,
   "metadata": {},
   "outputs": [
    {
     "data": {
      "text/plain": [
       "(115779, 23)"
      ]
     },
     "execution_count": 28,
     "metadata": {},
     "output_type": "execute_result"
    }
   ],
   "source": [
    "#names = 'type_of_accommodation,number_of_rooms,floor,floors,type_of_house,repair,combined_bathroom,shared_bathroom,ceiling_height,passenger_elevator,cargo_elevator,loggia,parking,balcony,population,view_from_the_windows,price,total_area,living_area,kitchen_area,year_of_construction,till_metro,address'\n",
    "df = pd.read_csv('dataset_rooms.csv', encoding='cp1251')\n",
    "df.shape"
   ]
  },
  {
   "cell_type": "code",
   "execution_count": 29,
   "metadata": {},
   "outputs": [
    {
     "data": {
      "text/html": [
       "<div>\n",
       "<style scoped>\n",
       "    .dataframe tbody tr th:only-of-type {\n",
       "        vertical-align: middle;\n",
       "    }\n",
       "\n",
       "    .dataframe tbody tr th {\n",
       "        vertical-align: top;\n",
       "    }\n",
       "\n",
       "    .dataframe thead th {\n",
       "        text-align: right;\n",
       "    }\n",
       "</style>\n",
       "<table border=\"1\" class=\"dataframe\">\n",
       "  <thead>\n",
       "    <tr style=\"text-align: right;\">\n",
       "      <th></th>\n",
       "      <th>type_of_accommodation</th>\n",
       "      <th>number_of_rooms</th>\n",
       "      <th>floor</th>\n",
       "      <th>floors</th>\n",
       "      <th>type_of_house</th>\n",
       "      <th>repair</th>\n",
       "      <th>combined_bathroom</th>\n",
       "      <th>shared_bathroom</th>\n",
       "      <th>ceiling_height</th>\n",
       "      <th>passenger_elevator</th>\n",
       "      <th>...</th>\n",
       "      <th>balcony</th>\n",
       "      <th>population</th>\n",
       "      <th>view_from_the_windows</th>\n",
       "      <th>price</th>\n",
       "      <th>total_area</th>\n",
       "      <th>living_area</th>\n",
       "      <th>kitchen_area</th>\n",
       "      <th>year_of_construction</th>\n",
       "      <th>till_metro</th>\n",
       "      <th>address</th>\n",
       "    </tr>\n",
       "  </thead>\n",
       "  <tbody>\n",
       "    <tr>\n",
       "      <th>0</th>\n",
       "      <td>Вторичка,4,12,12,Монолитный,Без ремонта,3,0,3....</td>\n",
       "      <td>NaN</td>\n",
       "      <td>NaN</td>\n",
       "      <td>NaN</td>\n",
       "      <td>NaN</td>\n",
       "      <td>NaN</td>\n",
       "      <td>NaN</td>\n",
       "      <td>NaN</td>\n",
       "      <td>NaN</td>\n",
       "      <td>NaN</td>\n",
       "      <td>...</td>\n",
       "      <td>NaN</td>\n",
       "      <td>NaN</td>\n",
       "      <td>NaN</td>\n",
       "      <td>NaN</td>\n",
       "      <td>NaN</td>\n",
       "      <td>NaN</td>\n",
       "      <td>NaN</td>\n",
       "      <td>NaN</td>\n",
       "      <td>NaN</td>\n",
       "      <td>NaN</td>\n",
       "    </tr>\n",
       "    <tr>\n",
       "      <th>1</th>\n",
       "      <td>Новостройка,1,3,15,Монолитный,Нет,0,1,0,1,1,1,...</td>\n",
       "      <td>NaN</td>\n",
       "      <td>NaN</td>\n",
       "      <td>NaN</td>\n",
       "      <td>NaN</td>\n",
       "      <td>NaN</td>\n",
       "      <td>NaN</td>\n",
       "      <td>NaN</td>\n",
       "      <td>NaN</td>\n",
       "      <td>NaN</td>\n",
       "      <td>...</td>\n",
       "      <td>NaN</td>\n",
       "      <td>NaN</td>\n",
       "      <td>NaN</td>\n",
       "      <td>NaN</td>\n",
       "      <td>NaN</td>\n",
       "      <td>NaN</td>\n",
       "      <td>NaN</td>\n",
       "      <td>NaN</td>\n",
       "      <td>NaN</td>\n",
       "      <td>NaN</td>\n",
       "    </tr>\n",
       "    <tr>\n",
       "      <th>2</th>\n",
       "      <td>Вторичка,1,6,11,Монолитный,Без ремонта,1,0,3.1...</td>\n",
       "      <td>NaN</td>\n",
       "      <td>NaN</td>\n",
       "      <td>NaN</td>\n",
       "      <td>NaN</td>\n",
       "      <td>NaN</td>\n",
       "      <td>NaN</td>\n",
       "      <td>NaN</td>\n",
       "      <td>NaN</td>\n",
       "      <td>NaN</td>\n",
       "      <td>...</td>\n",
       "      <td>NaN</td>\n",
       "      <td>NaN</td>\n",
       "      <td>NaN</td>\n",
       "      <td>NaN</td>\n",
       "      <td>NaN</td>\n",
       "      <td>NaN</td>\n",
       "      <td>NaN</td>\n",
       "      <td>NaN</td>\n",
       "      <td>NaN</td>\n",
       "      <td>NaN</td>\n",
       "    </tr>\n",
       "    <tr>\n",
       "      <th>3</th>\n",
       "      <td>Вторичка,2,20,24,Панельный,Без ремонта,0,1,2.8...</td>\n",
       "      <td>NaN</td>\n",
       "      <td>NaN</td>\n",
       "      <td>NaN</td>\n",
       "      <td>NaN</td>\n",
       "      <td>NaN</td>\n",
       "      <td>NaN</td>\n",
       "      <td>NaN</td>\n",
       "      <td>NaN</td>\n",
       "      <td>NaN</td>\n",
       "      <td>...</td>\n",
       "      <td>NaN</td>\n",
       "      <td>NaN</td>\n",
       "      <td>NaN</td>\n",
       "      <td>NaN</td>\n",
       "      <td>NaN</td>\n",
       "      <td>NaN</td>\n",
       "      <td>NaN</td>\n",
       "      <td>NaN</td>\n",
       "      <td>NaN</td>\n",
       "      <td>NaN</td>\n",
       "    </tr>\n",
       "    <tr>\n",
       "      <th>4</th>\n",
       "      <td>Вторичка,1,9,11,Монолитный,Без ремонта,1,0,0,0...</td>\n",
       "      <td>NaN</td>\n",
       "      <td>NaN</td>\n",
       "      <td>NaN</td>\n",
       "      <td>NaN</td>\n",
       "      <td>NaN</td>\n",
       "      <td>NaN</td>\n",
       "      <td>NaN</td>\n",
       "      <td>NaN</td>\n",
       "      <td>NaN</td>\n",
       "      <td>...</td>\n",
       "      <td>NaN</td>\n",
       "      <td>NaN</td>\n",
       "      <td>NaN</td>\n",
       "      <td>NaN</td>\n",
       "      <td>NaN</td>\n",
       "      <td>NaN</td>\n",
       "      <td>NaN</td>\n",
       "      <td>NaN</td>\n",
       "      <td>NaN</td>\n",
       "      <td>NaN</td>\n",
       "    </tr>\n",
       "  </tbody>\n",
       "</table>\n",
       "<p>5 rows × 23 columns</p>\n",
       "</div>"
      ],
      "text/plain": [
       "                               type_of_accommodation  number_of_rooms  floor  \\\n",
       "0  Вторичка,4,12,12,Монолитный,Без ремонта,3,0,3....              NaN    NaN   \n",
       "1  Новостройка,1,3,15,Монолитный,Нет,0,1,0,1,1,1,...              NaN    NaN   \n",
       "2  Вторичка,1,6,11,Монолитный,Без ремонта,1,0,3.1...              NaN    NaN   \n",
       "3  Вторичка,2,20,24,Панельный,Без ремонта,0,1,2.8...              NaN    NaN   \n",
       "4  Вторичка,1,9,11,Монолитный,Без ремонта,1,0,0,0...              NaN    NaN   \n",
       "\n",
       "   floors  type_of_house  repair  combined_bathroom  shared_bathroom  \\\n",
       "0     NaN            NaN     NaN                NaN              NaN   \n",
       "1     NaN            NaN     NaN                NaN              NaN   \n",
       "2     NaN            NaN     NaN                NaN              NaN   \n",
       "3     NaN            NaN     NaN                NaN              NaN   \n",
       "4     NaN            NaN     NaN                NaN              NaN   \n",
       "\n",
       "   ceiling_height  passenger_elevator   ...     balcony  population  \\\n",
       "0             NaN                 NaN   ...         NaN         NaN   \n",
       "1             NaN                 NaN   ...         NaN         NaN   \n",
       "2             NaN                 NaN   ...         NaN         NaN   \n",
       "3             NaN                 NaN   ...         NaN         NaN   \n",
       "4             NaN                 NaN   ...         NaN         NaN   \n",
       "\n",
       "   view_from_the_windows  price  total_area  living_area  kitchen_area  \\\n",
       "0                    NaN    NaN         NaN          NaN           NaN   \n",
       "1                    NaN    NaN         NaN          NaN           NaN   \n",
       "2                    NaN    NaN         NaN          NaN           NaN   \n",
       "3                    NaN    NaN         NaN          NaN           NaN   \n",
       "4                    NaN    NaN         NaN          NaN           NaN   \n",
       "\n",
       "   year_of_construction  till_metro  address  \n",
       "0                   NaN         NaN      NaN  \n",
       "1                   NaN         NaN      NaN  \n",
       "2                   NaN         NaN      NaN  \n",
       "3                   NaN         NaN      NaN  \n",
       "4                   NaN         NaN      NaN  \n",
       "\n",
       "[5 rows x 23 columns]"
      ]
     },
     "execution_count": 29,
     "metadata": {},
     "output_type": "execute_result"
    }
   ],
   "source": [
    "df.head()"
   ]
  },
  {
   "cell_type": "code",
   "execution_count": 30,
   "metadata": {},
   "outputs": [],
   "source": [
    "df = df['type_of_accommodation']"
   ]
  },
  {
   "cell_type": "code",
   "execution_count": 31,
   "metadata": {},
   "outputs": [],
   "source": [
    "data = pd.unique(df)"
   ]
  },
  {
   "cell_type": "code",
   "execution_count": 32,
   "metadata": {},
   "outputs": [
    {
     "data": {
      "text/plain": [
       "(17066,)"
      ]
     },
     "execution_count": 32,
     "metadata": {},
     "output_type": "execute_result"
    }
   ],
   "source": [
    "data.shape"
   ]
  },
  {
   "cell_type": "code",
   "execution_count": 10,
   "metadata": {},
   "outputs": [
    {
     "name": "stdout",
     "output_type": "stream",
     "text": [
      "The pycodestyle_magic extension is already loaded. To reload it, use:\n",
      "  %reload_ext pycodestyle_magic\n"
     ]
    }
   ],
   "source": [
    "%load_ext pycodestyle_magic"
   ]
  },
  {
   "cell_type": "code",
   "execution_count": 28,
   "metadata": {},
   "outputs": [],
   "source": [
    "%%pycodestyle\n",
    "a[lower:upper], a[lower:upper:], a[lower::step]"
   ]
  },
  {
   "cell_type": "code",
   "execution_count": null,
   "metadata": {},
   "outputs": [],
   "source": []
  }
 ],
 "metadata": {
  "kernelspec": {
   "display_name": "Python 3",
   "language": "python",
   "name": "python3"
  },
  "language_info": {
   "codemirror_mode": {
    "name": "ipython",
    "version": 3
   },
   "file_extension": ".py",
   "mimetype": "text/x-python",
   "name": "python",
   "nbconvert_exporter": "python",
   "pygments_lexer": "ipython3",
   "version": "3.6.4"
  }
 },
 "nbformat": 4,
 "nbformat_minor": 2
}
