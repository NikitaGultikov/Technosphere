{
 "cells": [
  {
   "cell_type": "markdown",
   "metadata": {},
   "source": [
    "**Общая информация**\n",
    "\n",
    "**Срок сдачи:** 13 марта 2017, 06:00 <br\\>\n",
    "**Штраф за опоздание:** -2 балла после 06:00 13 марта, -4 балла после 06:00 20 марта, -6 баллов после 06:00 27 марта\n",
    "\n",
    "При отправлении ДЗ указывайте фамилию в названии файла\n",
    "Присылать ДЗ необходимо в виде ссылки на свой github репозиторий в slack @alkhamush\n",
    "\n",
    "Необходимо в slack создать таск в приватный чат:\n",
    "/todo Фамилия Имя ссылка на гитхаб @alkhamush\n",
    "Пример:\n",
    "/todo Ксения Стройкова https://github.com/stroykova/spheremailru/stroykova_hw1.ipynb @alkhamush\n",
    "\n",
    "Используйте данный Ipython Notebook при оформлении домашнего задания."
   ]
  },
  {
   "cell_type": "markdown",
   "metadata": {},
   "source": [
    "###### Задание 1 (2 баллов)\n",
    "Реализовать KNN в классе MyKNeighborsClassifier (обязательное условие: точность не ниже sklearn реализации)\n",
    "Разберитесь самостоятельно, какая мера расстояния используется в KNeighborsClassifier дефолтно и реализуйте свой алгоритм именно с этой мерой. Самостоятельно разберитесь, как считается score из KNeighborsClassifier и реализуйте аналог в своём классе.\n",
    "\n",
    "###### Задание 2 (2 балла)\n",
    "Добиться скорости работы на fit,  predict и predict_proba сравнимой со sklearn 4 балла для iris и mnist\n",
    "Для этого используем numpy\n",
    "\n",
    "###### Задание 3 (2 балла)\n",
    "Для iris найдите такой параметр n_neighbors, при котором выдаётся наилучший score. Нарисуйте график зависимости score от n_neighbors\n",
    "\n",
    "###### Задание 3 (2 балла)\n",
    "Выполнить требования pep8\n",
    "\n",
    "###### Задание 5 (2 балла)\n",
    "Описать для чего нужны следующие библиотеки/классы/функции (список будет ниже)\n"
   ]
  },
  {
   "cell_type": "code",
   "execution_count": 1,
   "metadata": {},
   "outputs": [],
   "source": [
    "import numpy as np\n",
    "import matplotlib.pyplot as plt\n",
    "\n",
    "import seaborn as sns\n",
    "from sklearn import datasets\n",
    "from sklearn.base import ClassifierMixin\n",
    "from sklearn.datasets import fetch_mldata\n",
    "from sklearn.neighbors.base import NeighborsBase, KNeighborsMixin, SupervisedIntegerMixin \n",
    "from sklearn.model_selection import train_test_split\n",
    "from sklearn.neighbors import KNeighborsClassifier\n",
    "%load_ext pycodestyle_magic"
   ]
  },
  {
   "cell_type": "code",
   "execution_count": 2,
   "metadata": {},
   "outputs": [],
   "source": [
    "#%%pycodestyle\n",
    "class MyKNeighborsClassifier(NeighborsBase, KNeighborsMixin,\n",
    "                             SupervisedIntegerMixin, ClassifierMixin):\n",
    "\n",
    "    def __init__(self, n_neighbors):\n",
    "        self.neighbors = n_neighbors\n",
    "\n",
    "    def fit(self, X, y):\n",
    "        self.X_train = X\n",
    "        self.y_train = y\n",
    "        self.y_labels = np.unique(y)\n",
    "        self.n_classes = np.shape(self.y_labels)[0]\n",
    "\n",
    "    def numpy_dist(self, Y):\n",
    "        X = self.X_train\n",
    "        x_dist = (X ** 2).sum(axis=1)\n",
    "        y_dist = (Y ** 2).sum(axis=1)\n",
    "        xy_dist = X.dot(Y.T)\n",
    "        dist = - 2 * xy_dist + y_dist + x_dist.reshape(-1, 1)\n",
    "        dist = np.sqrt(np.abs(dist))\n",
    "        return dist\n",
    "\n",
    "    def predict(self, X):\n",
    "        \"\"\"\n",
    "        Default metric: minkowski(p=2), and with p=2\n",
    "        is equivalent to the standard Euclidean\n",
    "        \"\"\"\n",
    "        n_samples = X.shape[0]\n",
    "        neighbors = self.neighbors\n",
    "\n",
    "        Euc_dist = self.numpy_dist(X)\n",
    "\n",
    "        if neighbors <= 2:\n",
    "            k_dist = np.argsort(Euc_dist, axis=0)[:1, :]\n",
    "            y_pred = self.y_train[k_dist]\n",
    "        else:\n",
    "            y_pred = np.zeros(n_samples, dtype=self.y_labels[0].dtype)\n",
    "            k_dist = np.argsort(Euc_dist, axis=0)[:neighbors, :]\n",
    "            pred_labels = self.y_train[k_dist]\n",
    "\n",
    "            for i in range(n_samples):\n",
    "                (_, idx, counts) = np.unique(pred_labels[:, i],\n",
    "                                             return_index=True,\n",
    "                                             return_counts=True)\n",
    "                if np.size(np.unique(counts)) == 1:\n",
    "                    y_pred[i] = pred_labels[0, i]\n",
    "                else:\n",
    "                    y_pred[i] = pred_labels[idx[np.argmax(counts)], i]\n",
    "        return y_pred\n",
    "\n",
    "    def predict_proba(self, X):\n",
    "        n_samples = X.shape[0]\n",
    "        neighbors = self.neighbors\n",
    "        n_classes = self.n_classes\n",
    "\n",
    "        pred_labels = np.zeros((neighbors, n_samples),\n",
    "                               dtype=self.y_labels[0].dtype)\n",
    "        probabilities = np.zeros((n_samples, n_classes), dtype=float)\n",
    "\n",
    "        Euc_dist = self.numpy_dist(X)\n",
    "\n",
    "        k_dist = np.argsort(Euc_dist, axis=0)[:neighbors, :]\n",
    "\n",
    "        pred_labels = self.y_train[k_dist].T\n",
    "        for k in range(n_samples):\n",
    "            proba_k = np.zeros((n_classes))\n",
    "            for i, idx in np.ndenumerate(pred_labels[k]):\n",
    "                proba_k[int(idx)] += 1.0\n",
    "            normalizer = proba_k.sum()\n",
    "            proba_k /= normalizer\n",
    "\n",
    "            probabilities[k] = proba_k\n",
    "\n",
    "        return probabilities\n",
    "\n",
    "    def score(self, X, y):\n",
    "        return np.mean(self.predict(X) == y)"
   ]
  },
  {
   "cell_type": "markdown",
   "metadata": {},
   "source": [
    "**IRIS**"
   ]
  },
  {
   "cell_type": "code",
   "execution_count": 89,
   "metadata": {},
   "outputs": [],
   "source": [
    "iris = datasets.load_iris()"
   ]
  },
  {
   "cell_type": "code",
   "execution_count": 90,
   "metadata": {},
   "outputs": [],
   "source": [
    "X_train, X_test, y_train, y_test = train_test_split(iris.data,\n",
    "                                                    iris.target,\n",
    "                                                    test_size=0.1,\n",
    "                                                    stratify=iris.target)"
   ]
  },
  {
   "cell_type": "code",
   "execution_count": 91,
   "metadata": {},
   "outputs": [],
   "source": [
    "clf = KNeighborsClassifier(n_neighbors=3)\n",
    "my_clf = MyKNeighborsClassifier(n_neighbors=3)"
   ]
  },
  {
   "cell_type": "code",
   "execution_count": 92,
   "metadata": {},
   "outputs": [
    {
     "name": "stdout",
     "output_type": "stream",
     "text": [
      "Wall time: 1 ms\n"
     ]
    },
    {
     "data": {
      "text/plain": [
       "KNeighborsClassifier(algorithm='auto', leaf_size=30, metric='minkowski',\n",
       "           metric_params=None, n_jobs=1, n_neighbors=3, p=2,\n",
       "           weights='uniform')"
      ]
     },
     "execution_count": 92,
     "metadata": {},
     "output_type": "execute_result"
    }
   ],
   "source": [
    "%time clf.fit(X_train, y_train)"
   ]
  },
  {
   "cell_type": "code",
   "execution_count": 93,
   "metadata": {},
   "outputs": [
    {
     "name": "stdout",
     "output_type": "stream",
     "text": [
      "Wall time: 0 ns\n"
     ]
    }
   ],
   "source": [
    "%time my_clf.fit(X_train, y_train)"
   ]
  },
  {
   "cell_type": "code",
   "execution_count": 94,
   "metadata": {},
   "outputs": [
    {
     "name": "stdout",
     "output_type": "stream",
     "text": [
      "Wall time: 1 ms\n"
     ]
    },
    {
     "data": {
      "text/plain": [
       "array([0, 2, 2, 0, 1, 2, 2, 0, 2, 1, 2, 0, 1, 0, 1])"
      ]
     },
     "execution_count": 94,
     "metadata": {},
     "output_type": "execute_result"
    }
   ],
   "source": [
    "%time clf.predict(X_test)"
   ]
  },
  {
   "cell_type": "code",
   "execution_count": 95,
   "metadata": {},
   "outputs": [
    {
     "name": "stdout",
     "output_type": "stream",
     "text": [
      "Wall time: 2 ms\n"
     ]
    },
    {
     "data": {
      "text/plain": [
       "array([0, 2, 2, 0, 1, 2, 2, 0, 2, 1, 2, 0, 1, 0, 1])"
      ]
     },
     "execution_count": 95,
     "metadata": {},
     "output_type": "execute_result"
    }
   ],
   "source": [
    "%time my_clf.predict(X_test)"
   ]
  },
  {
   "cell_type": "code",
   "execution_count": 96,
   "metadata": {
    "scrolled": true
   },
   "outputs": [
    {
     "name": "stdout",
     "output_type": "stream",
     "text": [
      "Wall time: 1 ms\n"
     ]
    },
    {
     "data": {
      "text/plain": [
       "array([[1.        , 0.        , 0.        ],\n",
       "       [0.        , 0.        , 1.        ],\n",
       "       [0.        , 0.        , 1.        ],\n",
       "       [1.        , 0.        , 0.        ],\n",
       "       [0.        , 1.        , 0.        ],\n",
       "       [0.        , 0.        , 1.        ],\n",
       "       [0.        , 0.        , 1.        ],\n",
       "       [1.        , 0.        , 0.        ],\n",
       "       [0.        , 0.        , 1.        ],\n",
       "       [0.        , 1.        , 0.        ],\n",
       "       [0.        , 0.33333333, 0.66666667],\n",
       "       [1.        , 0.        , 0.        ],\n",
       "       [0.        , 1.        , 0.        ],\n",
       "       [1.        , 0.        , 0.        ],\n",
       "       [0.        , 1.        , 0.        ]])"
      ]
     },
     "execution_count": 96,
     "metadata": {},
     "output_type": "execute_result"
    }
   ],
   "source": [
    "%time clf.predict_proba(X_test)"
   ]
  },
  {
   "cell_type": "code",
   "execution_count": 97,
   "metadata": {},
   "outputs": [
    {
     "name": "stdout",
     "output_type": "stream",
     "text": [
      "Wall time: 1.5 ms\n"
     ]
    },
    {
     "data": {
      "text/plain": [
       "array([[1.        , 0.        , 0.        ],\n",
       "       [0.        , 0.        , 1.        ],\n",
       "       [0.        , 0.        , 1.        ],\n",
       "       [1.        , 0.        , 0.        ],\n",
       "       [0.        , 1.        , 0.        ],\n",
       "       [0.        , 0.        , 1.        ],\n",
       "       [0.        , 0.        , 1.        ],\n",
       "       [1.        , 0.        , 0.        ],\n",
       "       [0.        , 0.        , 1.        ],\n",
       "       [0.        , 1.        , 0.        ],\n",
       "       [0.        , 0.33333333, 0.66666667],\n",
       "       [1.        , 0.        , 0.        ],\n",
       "       [0.        , 1.        , 0.        ],\n",
       "       [1.        , 0.        , 0.        ],\n",
       "       [0.        , 1.        , 0.        ]])"
      ]
     },
     "execution_count": 97,
     "metadata": {},
     "output_type": "execute_result"
    }
   ],
   "source": [
    "%time my_clf.predict_proba(X_test)"
   ]
  },
  {
   "cell_type": "code",
   "execution_count": 98,
   "metadata": {},
   "outputs": [
    {
     "data": {
      "text/plain": [
       "0.9333333333333333"
      ]
     },
     "execution_count": 98,
     "metadata": {},
     "output_type": "execute_result"
    }
   ],
   "source": [
    "clf.score(X_test, y_test)"
   ]
  },
  {
   "cell_type": "code",
   "execution_count": 99,
   "metadata": {},
   "outputs": [
    {
     "data": {
      "text/plain": [
       "0.9333333333333333"
      ]
     },
     "execution_count": 99,
     "metadata": {},
     "output_type": "execute_result"
    }
   ],
   "source": [
    "my_clf.score(X_test, y_test)"
   ]
  },
  {
   "cell_type": "code",
   "execution_count": 5,
   "metadata": {},
   "outputs": [
    {
     "name": "stdout",
     "output_type": "stream",
     "text": [
      "Best score for  16 neighbors\n"
     ]
    },
    {
     "data": {
      "image/png": "[encoded data removed]",
      "text/plain": [
       "<matplotlib.figure.Figure at 0x1a19e4da940>"
      ]
     },
     "metadata": {},
     "output_type": "display_data"
    }
   ],
   "source": [
    "#%%pycodestyle\n",
    "# Задание 3\n",
    "iris = datasets.load_iris()\n",
    "sns.set(rc={'figure.figsize': (16., 6.)})\n",
    "sns.set(font_scale=1.5)\n",
    "\n",
    "def scores(X_train, X_test, y_train, y_test, neighbors=np.arange(1, 20)):\n",
    "    scores = np.empty(len(neighbors))\n",
    "    for k in neighbors:\n",
    "        my_clf = MyKNeighborsClassifier(k+1)\n",
    "        my_clf.fit(X_train, y_train)\n",
    "        scores[k-1] = my_clf.score(X_test, y_test)\n",
    "    return scores\n",
    "\n",
    "\n",
    "count = 300\n",
    "neighbors = np.arange(1, 40)\n",
    "score = np.zeros(len(neighbors))\n",
    "for i in range(count):\n",
    "    X_train, X_test, y_train, y_test = train_test_split(iris.data,\n",
    "                                                        iris.target,\n",
    "                                                        test_size=0.1,\n",
    "                                                        stratify=iris.target)\n",
    "    score += scores(X_train, X_test, y_train, y_test, neighbors)\n",
    "score /= count\n",
    "best_score = np.argmax(score) + 1\n",
    "\n",
    "data = datasets.base.Bunch(data=score, target=neighbors)\n",
    "ax = sns.barplot(x=\"target\", y=\"data\", data=data, color=\"green\")\n",
    "ax.set(xlabel='Nieghbors', ylabel='Score')\n",
    "ax.set_ybound(0.7, 1.1)\n",
    "\n",
    "print(\"Best score for \", best_score, \"neighbors\")"
   ]
  },
  {
   "cell_type": "markdown",
   "metadata": {},
   "source": [
    "**MNIST**"
   ]
  },
  {
   "cell_type": "code",
   "execution_count": 15,
   "metadata": {},
   "outputs": [
    {
     "data": {
      "text/plain": [
       "sklearn.utils.Bunch"
      ]
     },
     "execution_count": 15,
     "metadata": {},
     "output_type": "execute_result"
    }
   ],
   "source": [
    "mnist = fetch_mldata('MNIST original')"
   ]
  },
  {
   "cell_type": "code",
   "execution_count": 175,
   "metadata": {},
   "outputs": [],
   "source": [
    "X_train, X_test, y_train, y_test = train_test_split(mnist.data, mnist.target, test_size=0.1, stratify=mnist.target)"
   ]
  },
  {
   "cell_type": "code",
   "execution_count": 176,
   "metadata": {},
   "outputs": [],
   "source": [
    "clf = KNeighborsClassifier(n_neighbors=2)\n",
    "my_clf = MyKNeighborsClassifier(n_neighbors=2)"
   ]
  },
  {
   "cell_type": "code",
   "execution_count": null,
   "metadata": {},
   "outputs": [],
   "source": [
    "%time clf.fit(X_train, y_train)"
   ]
  },
  {
   "cell_type": "code",
   "execution_count": null,
   "metadata": {},
   "outputs": [],
   "source": [
    "%time my_clf.fit(X_train, y_train)"
   ]
  },
  {
   "cell_type": "code",
   "execution_count": null,
   "metadata": {},
   "outputs": [],
   "source": [
    "%time clf.predict(X_test)"
   ]
  },
  {
   "cell_type": "code",
   "execution_count": null,
   "metadata": {},
   "outputs": [],
   "source": [
    "%time my_clf.predict(X_test)"
   ]
  },
  {
   "cell_type": "code",
   "execution_count": null,
   "metadata": {},
   "outputs": [],
   "source": [
    "%time clf.predict_proba(X_test)"
   ]
  },
  {
   "cell_type": "code",
   "execution_count": null,
   "metadata": {},
   "outputs": [],
   "source": [
    "%time my_clf.predict_proba(X_test)"
   ]
  },
  {
   "cell_type": "code",
   "execution_count": null,
   "metadata": {},
   "outputs": [],
   "source": [
    "clf.score(X_test, y_test)"
   ]
  },
  {
   "cell_type": "code",
   "execution_count": null,
   "metadata": {},
   "outputs": [],
   "source": [
    "my_clf.score(X_test, y_test)"
   ]
  },
  {
   "cell_type": "markdown",
   "metadata": {},
   "source": [
    "Задание 5"
   ]
  },
  {
   "cell_type": "code",
   "execution_count": 23,
   "metadata": {},
   "outputs": [
    {
     "data": {
      "text/plain": [
       "\"\\n(Python's Statistical Data Visualization Library)\\nSeaborn - это библиотека для создания красивых и информативных графиков разнообразных статистических данных\\nна Python. Seaborn стремится сделать визуализацию центральной частью изучения и понимания данных. Библиотека \\nвключает поддержку структур данных numpy и pandas и статистических методов из scipy и statsmodels. Seaborn использует \\nметоды библиотеки matplotlib. Seaborn следует рассматривать как дополнение к matplotlib. В общем Seaborn комбинирует мощь\\nметодов библиотеки matplotlib и собственных методов для информативного отображения стат. данных при минимальных затратах\\n\""
      ]
     },
     "execution_count": 23,
     "metadata": {},
     "output_type": "execute_result"
    }
   ],
   "source": [
    "# seaborn\n",
    "\"\"\"\n",
    "(Python's Statistical Data Visualization Library)\n",
    "Seaborn - это библиотека для создания красивых и информативных графиков разнообразных статистических данных\n",
    "на Python. Seaborn стремится сделать визуализацию центральной частью изучения и понимания данных. Библиотека \n",
    "включает поддержку структур данных numpy и pandas и статистических методов из scipy и statsmodels. Seaborn использует \n",
    "методы библиотеки matplotlib. Seaborn следует рассматривать как дополнение к matplotlib. В общем Seaborn комбинирует мощь\n",
    "методов библиотеки matplotlib и собственных методов для информативного отображения стат. данных при минимальных затратах\n",
    "кода\n",
    "\"\"\"\n",
    "# matplotlib\n",
    "\"\"\"\n",
    "matplotlib - это бибилиотека двумерной графики для языка программирования python с помощью которой можно создавать \n",
    "высококачественные рисунки различных форматов (Подддерживает и 3D графику). Данный пакет поддерживает \n",
    "многие виды графиков и диаграмм. Поддерживает форматы изображений: \n",
    "Encapsulated PostScript (EPS)\n",
    "Enhanced Metafile (EMF)\n",
    "JPEG\n",
    "PDF\n",
    "PNG\n",
    "Postscript\n",
    "RGBA («сырой» формат)\n",
    "SVG\n",
    "SVGZ\n",
    "TIFF\n",
    "С помощью Matplotlib можно делать и анимированные изображения.\n",
    "\"\"\"\n",
    "# train_test_split\n",
    "\"\"\"\n",
    "sklearn.cross_validation.train_test_split(*arrays, **options)\n",
    "\n",
    "Split arrays or matrices into random train and test subsets\n",
    "(разделяет numpy.array на два, причем рандомизированно)\n",
    "\"\"\"\n",
    "# Pipelin%load_ext e (from sklearn.pipeline import Pipeline)\n",
    "\"\"\"\n",
    "\n",
    "\"\"\"\n",
    "# StandardScaler (from sklearn.preprocessing import StandardScaler)\n",
    "\"\"\"\n",
    "Класс, который используется для вычисления среднего и стандартого отклонения numpy массива и дальнейнего\n",
    "центрирования и масштабирования\n",
    "x = np.array([[],[],[]...], dtype = float)\n",
    "x_scaler = StandardScaler(copy=True, with_mean=True, with_std=True)\n",
    "x_scaler.fit(X) # вычислить среднее и стандартное отклонение\n",
    "x_scaler.transform(x) # Perform standardization by centering and scaling\n",
    "\"\"\"\n",
    "# ClassifierMixin\n",
    "\"\"\"\n",
    "В классе определен метод score() для оценки точности kNN\n",
    "\"\"\"\n",
    "# NeighborsBase\n",
    "\"\"\"\n",
    "Основной класс для kNN. В нем определены и инициализируются основные параметры такие как используемая метрика,\n",
    "n_neighbors - k ближайших соседей, а так же метод _fit()\n",
    "\"\"\"\n",
    "# KNeighborsMixin\n",
    "\"\"\"\n",
    "Класс, в котором определена функция для нахождения k ближайших соседей. Также функция, которая\n",
    "возвращает разреженную матрицу в формате CSR, A [i, j] - это вес ребра, соединяющего i с j-тым соседом \n",
    "\"\"\"\n",
    "# SupervisedIntegerMixin\n",
    "\"\"\"\n",
    "В классе определен метод fit, в котором определяются основные targets\n",
    "\"\"\""
   ]
  }
 ],
 "metadata": {
  "kernelspec": {
   "display_name": "Python 3",
   "language": "python",
   "name": "python3"
  },
  "language_info": {
   "codemirror_mode": {
    "name": "ipython",
    "version": 3
   },
   "file_extension": ".py",
   "mimetype": "text/x-python",
   "name": "python",
   "nbconvert_exporter": "python",
   "pygments_lexer": "ipython3",
   "version": "3.6.4"
  }
 },
 "nbformat": 4,
 "nbformat_minor": 2
}
